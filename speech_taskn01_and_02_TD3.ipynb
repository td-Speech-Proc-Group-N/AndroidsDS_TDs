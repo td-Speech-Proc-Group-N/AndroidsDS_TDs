{
  "nbformat": 4,
  "nbformat_minor": 0,
  "metadata": {
    "colab": {
      "provenance": []
    },
    "kernelspec": {
      "name": "python3",
      "display_name": "Python 3"
    },
    "language_info": {
      "name": "python"
    }
  },
  "cells": [
    {
      "cell_type": "code",
      "execution_count": null,
      "metadata": {
        "id": "81h7HHH6sTk1"
      },
      "outputs": [],
      "source": [
        "import pandas as pd\n",
        "import pingouin as pg\n",
        "import numpy as np\n",
        "import seaborn as sns\n",
        "import matplotlib.pyplot as plt\n",
        "# statsmodels.api?\n",
        "\n",
        "\n",
        "df = pd.read_csv('PT_features_reading.csv')\n",
        "\n",
        "# for our first few rows\n",
        "df.head()\n"
      ]
    },
    {
      "cell_type": "code",
      "source": [
        "# basic info /\n",
        "#missing values\n",
        "# to check more maybe? : https://pandas.pydata.org/docs/reference/api/pandas.DataFrame.info.html\n",
        "df.info()\n",
        "df.describe(include='all')"
      ],
      "metadata": {
        "id": "Ov0kce1ztuDk"
      },
      "execution_count": null,
      "outputs": []
    },
    {
      "cell_type": "code",
      "source": [
        "# for sex age.andd education\n",
        "# Reference: https://pandas.pydata.org/docs/reference/api/pandas.DataFrame.groupby.html\n",
        "sex_distribution = pd.crosstab(\n",
        "    df['diagnosis'],\n",
        "    df['sex'],\n",
        "    margins=True,          # (Total)\n",
        "    normalize='index'\n",
        ") * 100\n",
        "print(sex_distribution.round(2))\n"
      ],
      "metadata": {
        "id": "qbaOhwlItDOf"
      },
      "execution_count": null,
      "outputs": []
    },
    {
      "cell_type": "code",
      "source": [
        "# Visualiziton seaborn\n",
        "# https://seaborn.pydata.org/generated/seaborn.boxplot.html\n",
        "\n",
        "\n",
        "\n",
        "plt.grid(axis='y', linestyle='--', alpha=0.7)\n",
        "plt.show()\n",
        "\n",
        "\n",
        "plt.subplot(1,2,2)\n",
        "plt.title('Sex distribution with thr diagnosis')\n",
        "plt.tight_layout()\n",
        "plt.show()\n"
      ],
      "metadata": {
        "id": "nl5tfUeytxKM"
      },
      "execution_count": null,
      "outputs": []
    },
    {
      "cell_type": "code",
      "source": [],
      "metadata": {
        "id": "-43SqXhPylio"
      },
      "execution_count": null,
      "outputs": []
    }
  ]
}