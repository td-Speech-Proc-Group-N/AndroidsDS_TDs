{
 "cells": [
  {
   "cell_type": "code",
   "execution_count": 1,
   "id": "90040844",
   "metadata": {},
   "outputs": [],
   "source": [
    "import os\n",
    "import random\n",
    "import opensmile\n",
    "import soundfile as sf\n",
    "import pandas as pd\n",
    "from tqdm import tqdm"
   ]
  },
  {
   "cell_type": "code",
   "execution_count": 2,
   "id": "d65bd4a2",
   "metadata": {},
   "outputs": [
    {
     "name": "stdout",
     "output_type": "stream",
     "text": [
      "Selected file: Androids-Corpus/Reading-Task/audio/PT/21_PM33_3.wav\n"
     ]
    }
   ],
   "source": [
    "# Path to directory with audio files\n",
    "audio_fpath = \"Androids-Corpus/Reading-Task/audio/PT/\"\n",
    "\n",
    "# Pick a random audio file\n",
    "files = [f for f in os.listdir(audio_fpath) if f.endswith(\".wav\")]\n",
    "# rand_file = random.choice(files)\n",
    "rand_file = files[42]\n",
    "audio_file = os.path.join(audio_fpath, rand_file)\n",
    "print(f\"Selected file: {audio_file}\")\n",
    "\n",
    "# Load audio\n",
    "signal, sr = sf.read(audio_file)\n",
    "\n",
    "# Define openSMILE extractors\n",
    "smile_egemaps = opensmile.Smile(\n",
    "    feature_set=opensmile.FeatureSet.eGeMAPSv02,\n",
    "    feature_level=opensmile.FeatureLevel.Functionals,\n",
    ")\n",
    "\n",
    "smile_compare = opensmile.Smile(\n",
    "    feature_set=opensmile.FeatureSet.ComParE_2016,\n",
    "    feature_level=opensmile.FeatureLevel.Functionals,\n",
    ")\n",
    "\n",
    "# Extract features\n",
    "features_egemaps = smile_egemaps.process_signal(signal, sr)\n",
    "features_compare = smile_compare.process_signal(signal, sr)\n"
   ]
  },
  {
   "cell_type": "code",
   "execution_count": 23,
   "id": "b0b9f509",
   "metadata": {},
   "outputs": [
    {
     "data": {
      "text/plain": [
       "Index(['pcm_zcr_sma_iqr2-3', 'pcm_zcr_sma_iqr1-3', 'pcm_zcr_sma_percentile1.0',\n",
       "       'pcm_zcr_sma_percentile99.0', 'pcm_zcr_sma_pctlrange0-1',\n",
       "       'pcm_zcr_sma_stddev', 'pcm_zcr_sma_skewness', 'pcm_zcr_sma_kurtosis',\n",
       "       'pcm_zcr_sma_meanSegLen', 'pcm_zcr_sma_maxSegLen'],\n",
       "      dtype='object')"
      ]
     },
     "execution_count": 23,
     "metadata": {},
     "output_type": "execute_result"
    }
   ],
   "source": [
    "features_compare.columns[100:110]"
   ]
  },
  {
   "cell_type": "code",
   "execution_count": 10,
   "id": "156140db",
   "metadata": {},
   "outputs": [
    {
     "data": {
      "text/plain": [
       "88"
      ]
     },
     "execution_count": 10,
     "metadata": {},
     "output_type": "execute_result"
    }
   ],
   "source": [
    "len(features_egemaps.columns)"
   ]
  },
  {
   "cell_type": "code",
   "execution_count": 9,
   "id": "251a20a9",
   "metadata": {},
   "outputs": [
    {
     "data": {
      "text/plain": [
       "6373"
      ]
     },
     "execution_count": 9,
     "metadata": {},
     "output_type": "execute_result"
    }
   ],
   "source": [
    "len(features_compare.columns)"
   ]
  },
  {
   "cell_type": "code",
   "execution_count": 11,
   "id": "f16d8f53",
   "metadata": {},
   "outputs": [],
   "source": [
    "smile_egemaps_lld = opensmile.Smile(\n",
    "    feature_set=opensmile.FeatureSet.eGeMAPSv02,\n",
    "    feature_level=opensmile.FeatureLevel.LowLevelDescriptors,\n",
    ")\n",
    "\n",
    "features_egemaps_lld = smile_egemaps_lld.process_signal(signal, sr)"
   ]
  },
  {
   "cell_type": "code",
   "execution_count": 20,
   "id": "cd9b6c7e",
   "metadata": {},
   "outputs": [
    {
     "name": "stdout",
     "output_type": "stream",
     "text": [
      "Index(['F0semitoneFrom27.5Hz_sma3nz_amean',\n",
      "       'F0semitoneFrom27.5Hz_sma3nz_stddevNorm',\n",
      "       'F0semitoneFrom27.5Hz_sma3nz_percentile20.0',\n",
      "       'F0semitoneFrom27.5Hz_sma3nz_percentile50.0',\n",
      "       'F0semitoneFrom27.5Hz_sma3nz_percentile80.0',\n",
      "       'F0semitoneFrom27.5Hz_sma3nz_pctlrange0-2',\n",
      "       'F0semitoneFrom27.5Hz_sma3nz_meanRisingSlope',\n",
      "       'F0semitoneFrom27.5Hz_sma3nz_stddevRisingSlope',\n",
      "       'F0semitoneFrom27.5Hz_sma3nz_meanFallingSlope',\n",
      "       'F0semitoneFrom27.5Hz_sma3nz_stddevFallingSlope', 'loudness_sma3_amean',\n",
      "       'loudness_sma3_stddevNorm', 'loudness_sma3_percentile20.0',\n",
      "       'loudness_sma3_percentile50.0', 'loudness_sma3_percentile80.0',\n",
      "       'loudness_sma3_pctlrange0-2', 'loudness_sma3_meanRisingSlope',\n",
      "       'loudness_sma3_stddevRisingSlope', 'loudness_sma3_meanFallingSlope',\n",
      "       'loudness_sma3_stddevFallingSlope', 'spectralFlux_sma3_amean',\n",
      "       'spectralFlux_sma3_stddevNorm', 'mfcc1_sma3_amean',\n",
      "       'mfcc1_sma3_stddevNorm', 'mfcc2_sma3_amean', 'mfcc2_sma3_stddevNorm',\n",
      "       'mfcc3_sma3_amean', 'mfcc3_sma3_stddevNorm', 'mfcc4_sma3_amean',\n",
      "       'mfcc4_sma3_stddevNorm', 'jitterLocal_sma3nz_amean',\n",
      "       'jitterLocal_sma3nz_stddevNorm', 'shimmerLocaldB_sma3nz_amean',\n",
      "       'shimmerLocaldB_sma3nz_stddevNorm', 'HNRdBACF_sma3nz_amean',\n",
      "       'HNRdBACF_sma3nz_stddevNorm', 'logRelF0-H1-H2_sma3nz_amean',\n",
      "       'logRelF0-H1-H2_sma3nz_stddevNorm', 'logRelF0-H1-A3_sma3nz_amean',\n",
      "       'logRelF0-H1-A3_sma3nz_stddevNorm', 'F1frequency_sma3nz_amean',\n",
      "       'F1frequency_sma3nz_stddevNorm', 'F1bandwidth_sma3nz_amean',\n",
      "       'F1bandwidth_sma3nz_stddevNorm', 'F1amplitudeLogRelF0_sma3nz_amean',\n",
      "       'F1amplitudeLogRelF0_sma3nz_stddevNorm', 'F2frequency_sma3nz_amean',\n",
      "       'F2frequency_sma3nz_stddevNorm', 'F2bandwidth_sma3nz_amean',\n",
      "       'F2bandwidth_sma3nz_stddevNorm', 'F2amplitudeLogRelF0_sma3nz_amean',\n",
      "       'F2amplitudeLogRelF0_sma3nz_stddevNorm', 'F3frequency_sma3nz_amean',\n",
      "       'F3frequency_sma3nz_stddevNorm', 'F3bandwidth_sma3nz_amean',\n",
      "       'F3bandwidth_sma3nz_stddevNorm', 'F3amplitudeLogRelF0_sma3nz_amean',\n",
      "       'F3amplitudeLogRelF0_sma3nz_stddevNorm', 'alphaRatioV_sma3nz_amean',\n",
      "       'alphaRatioV_sma3nz_stddevNorm', 'hammarbergIndexV_sma3nz_amean',\n",
      "       'hammarbergIndexV_sma3nz_stddevNorm', 'slopeV0-500_sma3nz_amean',\n",
      "       'slopeV0-500_sma3nz_stddevNorm', 'slopeV500-1500_sma3nz_amean',\n",
      "       'slopeV500-1500_sma3nz_stddevNorm', 'spectralFluxV_sma3nz_amean',\n",
      "       'spectralFluxV_sma3nz_stddevNorm', 'mfcc1V_sma3nz_amean',\n",
      "       'mfcc1V_sma3nz_stddevNorm', 'mfcc2V_sma3nz_amean',\n",
      "       'mfcc2V_sma3nz_stddevNorm', 'mfcc3V_sma3nz_amean',\n",
      "       'mfcc3V_sma3nz_stddevNorm', 'mfcc4V_sma3nz_amean',\n",
      "       'mfcc4V_sma3nz_stddevNorm', 'alphaRatioUV_sma3nz_amean',\n",
      "       'hammarbergIndexUV_sma3nz_amean', 'slopeUV0-500_sma3nz_amean',\n",
      "       'slopeUV500-1500_sma3nz_amean', 'spectralFluxUV_sma3nz_amean',\n",
      "       'loudnessPeaksPerSec', 'VoicedSegmentsPerSec',\n",
      "       'MeanVoicedSegmentLengthSec', 'StddevVoicedSegmentLengthSec',\n",
      "       'MeanUnvoicedSegmentLength', 'StddevUnvoicedSegmentLength',\n",
      "       'equivalentSoundLevel_dBp'],\n",
      "      dtype='object')\n"
     ]
    }
   ],
   "source": [
    "print(features_egemaps.columns)"
   ]
  },
  {
   "cell_type": "code",
   "execution_count": 19,
   "id": "ee076731",
   "metadata": {},
   "outputs": [
    {
     "name": "stdout",
     "output_type": "stream",
     "text": [
      "Index(['Loudness_sma3', 'alphaRatio_sma3', 'hammarbergIndex_sma3',\n",
      "       'slope0-500_sma3', 'slope500-1500_sma3', 'spectralFlux_sma3',\n",
      "       'mfcc1_sma3', 'mfcc2_sma3', 'mfcc3_sma3', 'mfcc4_sma3',\n",
      "       'F0semitoneFrom27.5Hz_sma3nz', 'jitterLocal_sma3nz',\n",
      "       'shimmerLocaldB_sma3nz', 'HNRdBACF_sma3nz', 'logRelF0-H1-H2_sma3nz',\n",
      "       'logRelF0-H1-A3_sma3nz', 'F1frequency_sma3nz', 'F1bandwidth_sma3nz',\n",
      "       'F1amplitudeLogRelF0_sma3nz', 'F2frequency_sma3nz',\n",
      "       'F2bandwidth_sma3nz', 'F2amplitudeLogRelF0_sma3nz',\n",
      "       'F3frequency_sma3nz', 'F3bandwidth_sma3nz',\n",
      "       'F3amplitudeLogRelF0_sma3nz'],\n",
      "      dtype='object')\n"
     ]
    }
   ],
   "source": [
    "print(features_egemaps_lld.columns)"
   ]
  },
  {
   "cell_type": "code",
   "execution_count": 13,
   "id": "64770115",
   "metadata": {},
   "outputs": [
    {
     "data": {
      "text/plain": [
       "(1, 88)"
      ]
     },
     "execution_count": 13,
     "metadata": {},
     "output_type": "execute_result"
    }
   ],
   "source": [
    "features_egemaps.shape"
   ]
  },
  {
   "cell_type": "code",
   "execution_count": 12,
   "id": "9ee84458",
   "metadata": {},
   "outputs": [
    {
     "data": {
      "text/plain": [
       "(5155, 25)"
      ]
     },
     "execution_count": 12,
     "metadata": {},
     "output_type": "execute_result"
    }
   ],
   "source": [
    "features_egemaps_lld.shape"
   ]
  },
  {
   "cell_type": "code",
   "execution_count": 16,
   "id": "e2992eb1",
   "metadata": {},
   "outputs": [
    {
     "data": {
      "text/html": [
       "<div>\n",
       "<style scoped>\n",
       "    .dataframe tbody tr th:only-of-type {\n",
       "        vertical-align: middle;\n",
       "    }\n",
       "\n",
       "    .dataframe tbody tr th {\n",
       "        vertical-align: top;\n",
       "    }\n",
       "\n",
       "    .dataframe thead th {\n",
       "        text-align: right;\n",
       "    }\n",
       "</style>\n",
       "<table border=\"1\" class=\"dataframe\">\n",
       "  <thead>\n",
       "    <tr style=\"text-align: right;\">\n",
       "      <th></th>\n",
       "      <th></th>\n",
       "      <th>F0semitoneFrom27.5Hz_sma3nz_amean</th>\n",
       "      <th>F0semitoneFrom27.5Hz_sma3nz_stddevNorm</th>\n",
       "      <th>F0semitoneFrom27.5Hz_sma3nz_percentile20.0</th>\n",
       "      <th>F0semitoneFrom27.5Hz_sma3nz_percentile50.0</th>\n",
       "      <th>F0semitoneFrom27.5Hz_sma3nz_percentile80.0</th>\n",
       "      <th>F0semitoneFrom27.5Hz_sma3nz_pctlrange0-2</th>\n",
       "      <th>F0semitoneFrom27.5Hz_sma3nz_meanRisingSlope</th>\n",
       "      <th>F0semitoneFrom27.5Hz_sma3nz_stddevRisingSlope</th>\n",
       "      <th>F0semitoneFrom27.5Hz_sma3nz_meanFallingSlope</th>\n",
       "      <th>F0semitoneFrom27.5Hz_sma3nz_stddevFallingSlope</th>\n",
       "      <th>...</th>\n",
       "      <th>slopeUV0-500_sma3nz_amean</th>\n",
       "      <th>slopeUV500-1500_sma3nz_amean</th>\n",
       "      <th>spectralFluxUV_sma3nz_amean</th>\n",
       "      <th>loudnessPeaksPerSec</th>\n",
       "      <th>VoicedSegmentsPerSec</th>\n",
       "      <th>MeanVoicedSegmentLengthSec</th>\n",
       "      <th>StddevVoicedSegmentLengthSec</th>\n",
       "      <th>MeanUnvoicedSegmentLength</th>\n",
       "      <th>StddevUnvoicedSegmentLength</th>\n",
       "      <th>equivalentSoundLevel_dBp</th>\n",
       "    </tr>\n",
       "    <tr>\n",
       "      <th>start</th>\n",
       "      <th>end</th>\n",
       "      <th></th>\n",
       "      <th></th>\n",
       "      <th></th>\n",
       "      <th></th>\n",
       "      <th></th>\n",
       "      <th></th>\n",
       "      <th></th>\n",
       "      <th></th>\n",
       "      <th></th>\n",
       "      <th></th>\n",
       "      <th></th>\n",
       "      <th></th>\n",
       "      <th></th>\n",
       "      <th></th>\n",
       "      <th></th>\n",
       "      <th></th>\n",
       "      <th></th>\n",
       "      <th></th>\n",
       "      <th></th>\n",
       "      <th></th>\n",
       "      <th></th>\n",
       "    </tr>\n",
       "  </thead>\n",
       "  <tbody>\n",
       "    <tr>\n",
       "      <th>0 days</th>\n",
       "      <th>0 days 00:00:51.595691610</th>\n",
       "      <td>24.842369</td>\n",
       "      <td>0.097686</td>\n",
       "      <td>23.68504</td>\n",
       "      <td>24.603333</td>\n",
       "      <td>26.284668</td>\n",
       "      <td>2.599628</td>\n",
       "      <td>153.326202</td>\n",
       "      <td>205.401535</td>\n",
       "      <td>50.320881</td>\n",
       "      <td>128.666885</td>\n",
       "      <td>...</td>\n",
       "      <td>-0.015402</td>\n",
       "      <td>-0.005375</td>\n",
       "      <td>0.068034</td>\n",
       "      <td>3.198915</td>\n",
       "      <td>1.707743</td>\n",
       "      <td>0.408068</td>\n",
       "      <td>0.511468</td>\n",
       "      <td>0.18473</td>\n",
       "      <td>0.260147</td>\n",
       "      <td>-36.667397</td>\n",
       "    </tr>\n",
       "  </tbody>\n",
       "</table>\n",
       "<p>1 rows × 88 columns</p>\n",
       "</div>"
      ],
      "text/plain": [
       "                                  F0semitoneFrom27.5Hz_sma3nz_amean  \\\n",
       "start  end                                                            \n",
       "0 days 0 days 00:00:51.595691610                          24.842369   \n",
       "\n",
       "                                  F0semitoneFrom27.5Hz_sma3nz_stddevNorm  \\\n",
       "start  end                                                                 \n",
       "0 days 0 days 00:00:51.595691610                                0.097686   \n",
       "\n",
       "                                  F0semitoneFrom27.5Hz_sma3nz_percentile20.0  \\\n",
       "start  end                                                                     \n",
       "0 days 0 days 00:00:51.595691610                                    23.68504   \n",
       "\n",
       "                                  F0semitoneFrom27.5Hz_sma3nz_percentile50.0  \\\n",
       "start  end                                                                     \n",
       "0 days 0 days 00:00:51.595691610                                   24.603333   \n",
       "\n",
       "                                  F0semitoneFrom27.5Hz_sma3nz_percentile80.0  \\\n",
       "start  end                                                                     \n",
       "0 days 0 days 00:00:51.595691610                                   26.284668   \n",
       "\n",
       "                                  F0semitoneFrom27.5Hz_sma3nz_pctlrange0-2  \\\n",
       "start  end                                                                   \n",
       "0 days 0 days 00:00:51.595691610                                  2.599628   \n",
       "\n",
       "                                  F0semitoneFrom27.5Hz_sma3nz_meanRisingSlope  \\\n",
       "start  end                                                                      \n",
       "0 days 0 days 00:00:51.595691610                                   153.326202   \n",
       "\n",
       "                                  F0semitoneFrom27.5Hz_sma3nz_stddevRisingSlope  \\\n",
       "start  end                                                                        \n",
       "0 days 0 days 00:00:51.595691610                                     205.401535   \n",
       "\n",
       "                                  F0semitoneFrom27.5Hz_sma3nz_meanFallingSlope  \\\n",
       "start  end                                                                       \n",
       "0 days 0 days 00:00:51.595691610                                     50.320881   \n",
       "\n",
       "                                  F0semitoneFrom27.5Hz_sma3nz_stddevFallingSlope  \\\n",
       "start  end                                                                         \n",
       "0 days 0 days 00:00:51.595691610                                      128.666885   \n",
       "\n",
       "                                  ...  slopeUV0-500_sma3nz_amean  \\\n",
       "start  end                        ...                              \n",
       "0 days 0 days 00:00:51.595691610  ...                  -0.015402   \n",
       "\n",
       "                                  slopeUV500-1500_sma3nz_amean  \\\n",
       "start  end                                                       \n",
       "0 days 0 days 00:00:51.595691610                     -0.005375   \n",
       "\n",
       "                                  spectralFluxUV_sma3nz_amean  \\\n",
       "start  end                                                      \n",
       "0 days 0 days 00:00:51.595691610                     0.068034   \n",
       "\n",
       "                                  loudnessPeaksPerSec  VoicedSegmentsPerSec  \\\n",
       "start  end                                                                    \n",
       "0 days 0 days 00:00:51.595691610             3.198915              1.707743   \n",
       "\n",
       "                                  MeanVoicedSegmentLengthSec  \\\n",
       "start  end                                                     \n",
       "0 days 0 days 00:00:51.595691610                    0.408068   \n",
       "\n",
       "                                  StddevVoicedSegmentLengthSec  \\\n",
       "start  end                                                       \n",
       "0 days 0 days 00:00:51.595691610                      0.511468   \n",
       "\n",
       "                                  MeanUnvoicedSegmentLength  \\\n",
       "start  end                                                    \n",
       "0 days 0 days 00:00:51.595691610                    0.18473   \n",
       "\n",
       "                                  StddevUnvoicedSegmentLength  \\\n",
       "start  end                                                      \n",
       "0 days 0 days 00:00:51.595691610                     0.260147   \n",
       "\n",
       "                                  equivalentSoundLevel_dBp  \n",
       "start  end                                                  \n",
       "0 days 0 days 00:00:51.595691610                -36.667397  \n",
       "\n",
       "[1 rows x 88 columns]"
      ]
     },
     "execution_count": 16,
     "metadata": {},
     "output_type": "execute_result"
    }
   ],
   "source": [
    "features_egemaps.head()"
   ]
  },
  {
   "cell_type": "code",
   "execution_count": 15,
   "id": "0d824a05",
   "metadata": {},
   "outputs": [
    {
     "data": {
      "text/html": [
       "<div>\n",
       "<style scoped>\n",
       "    .dataframe tbody tr th:only-of-type {\n",
       "        vertical-align: middle;\n",
       "    }\n",
       "\n",
       "    .dataframe tbody tr th {\n",
       "        vertical-align: top;\n",
       "    }\n",
       "\n",
       "    .dataframe thead th {\n",
       "        text-align: right;\n",
       "    }\n",
       "</style>\n",
       "<table border=\"1\" class=\"dataframe\">\n",
       "  <thead>\n",
       "    <tr style=\"text-align: right;\">\n",
       "      <th></th>\n",
       "      <th></th>\n",
       "      <th>Loudness_sma3</th>\n",
       "      <th>alphaRatio_sma3</th>\n",
       "      <th>hammarbergIndex_sma3</th>\n",
       "      <th>slope0-500_sma3</th>\n",
       "      <th>slope500-1500_sma3</th>\n",
       "      <th>spectralFlux_sma3</th>\n",
       "      <th>mfcc1_sma3</th>\n",
       "      <th>mfcc2_sma3</th>\n",
       "      <th>mfcc3_sma3</th>\n",
       "      <th>mfcc4_sma3</th>\n",
       "      <th>...</th>\n",
       "      <th>logRelF0-H1-A3_sma3nz</th>\n",
       "      <th>F1frequency_sma3nz</th>\n",
       "      <th>F1bandwidth_sma3nz</th>\n",
       "      <th>F1amplitudeLogRelF0_sma3nz</th>\n",
       "      <th>F2frequency_sma3nz</th>\n",
       "      <th>F2bandwidth_sma3nz</th>\n",
       "      <th>F2amplitudeLogRelF0_sma3nz</th>\n",
       "      <th>F3frequency_sma3nz</th>\n",
       "      <th>F3bandwidth_sma3nz</th>\n",
       "      <th>F3amplitudeLogRelF0_sma3nz</th>\n",
       "    </tr>\n",
       "    <tr>\n",
       "      <th>start</th>\n",
       "      <th>end</th>\n",
       "      <th></th>\n",
       "      <th></th>\n",
       "      <th></th>\n",
       "      <th></th>\n",
       "      <th></th>\n",
       "      <th></th>\n",
       "      <th></th>\n",
       "      <th></th>\n",
       "      <th></th>\n",
       "      <th></th>\n",
       "      <th></th>\n",
       "      <th></th>\n",
       "      <th></th>\n",
       "      <th></th>\n",
       "      <th></th>\n",
       "      <th></th>\n",
       "      <th></th>\n",
       "      <th></th>\n",
       "      <th></th>\n",
       "      <th></th>\n",
       "      <th></th>\n",
       "    </tr>\n",
       "  </thead>\n",
       "  <tbody>\n",
       "    <tr>\n",
       "      <th>0 days 00:00:00</th>\n",
       "      <th>0 days 00:00:00.020000</th>\n",
       "      <td>0.171682</td>\n",
       "      <td>-8.549108</td>\n",
       "      <td>17.937178</td>\n",
       "      <td>-0.044203</td>\n",
       "      <td>-0.004924</td>\n",
       "      <td>0.007501</td>\n",
       "      <td>8.089675</td>\n",
       "      <td>3.684633</td>\n",
       "      <td>10.559636</td>\n",
       "      <td>2.022642</td>\n",
       "      <td>...</td>\n",
       "      <td>0.000000</td>\n",
       "      <td>515.777344</td>\n",
       "      <td>998.036316</td>\n",
       "      <td>-140.662384</td>\n",
       "      <td>1562.565063</td>\n",
       "      <td>1092.897827</td>\n",
       "      <td>-139.921829</td>\n",
       "      <td>2245.683594</td>\n",
       "      <td>816.377747</td>\n",
       "      <td>-140.248398</td>\n",
       "    </tr>\n",
       "    <tr>\n",
       "      <th>0 days 00:00:00.010000</th>\n",
       "      <th>0 days 00:00:00.030000</th>\n",
       "      <td>0.174262</td>\n",
       "      <td>-7.213514</td>\n",
       "      <td>14.113811</td>\n",
       "      <td>-0.021557</td>\n",
       "      <td>-0.004548</td>\n",
       "      <td>0.020852</td>\n",
       "      <td>7.815128</td>\n",
       "      <td>3.322604</td>\n",
       "      <td>8.408792</td>\n",
       "      <td>0.962938</td>\n",
       "      <td>...</td>\n",
       "      <td>2.524562</td>\n",
       "      <td>511.435455</td>\n",
       "      <td>984.341614</td>\n",
       "      <td>-80.211670</td>\n",
       "      <td>1522.374634</td>\n",
       "      <td>1076.443726</td>\n",
       "      <td>-79.247849</td>\n",
       "      <td>2301.574463</td>\n",
       "      <td>763.513184</td>\n",
       "      <td>-81.463966</td>\n",
       "    </tr>\n",
       "    <tr>\n",
       "      <th>0 days 00:00:00.020000</th>\n",
       "      <th>0 days 00:00:00.040000</th>\n",
       "      <td>0.177049</td>\n",
       "      <td>-6.060549</td>\n",
       "      <td>11.679684</td>\n",
       "      <td>-0.008040</td>\n",
       "      <td>-0.003126</td>\n",
       "      <td>0.030875</td>\n",
       "      <td>8.038446</td>\n",
       "      <td>3.144581</td>\n",
       "      <td>8.047350</td>\n",
       "      <td>1.714168</td>\n",
       "      <td>...</td>\n",
       "      <td>7.840576</td>\n",
       "      <td>516.194519</td>\n",
       "      <td>994.886475</td>\n",
       "      <td>-21.763206</td>\n",
       "      <td>1511.360840</td>\n",
       "      <td>1159.270996</td>\n",
       "      <td>-21.066263</td>\n",
       "      <td>2296.432861</td>\n",
       "      <td>765.887207</td>\n",
       "      <td>-24.833033</td>\n",
       "    </tr>\n",
       "    <tr>\n",
       "      <th>0 days 00:00:00.030000</th>\n",
       "      <th>0 days 00:00:00.050000</th>\n",
       "      <td>0.177995</td>\n",
       "      <td>-7.191372</td>\n",
       "      <td>11.244885</td>\n",
       "      <td>-0.024570</td>\n",
       "      <td>-0.000249</td>\n",
       "      <td>0.043502</td>\n",
       "      <td>9.689507</td>\n",
       "      <td>5.715604</td>\n",
       "      <td>8.120708</td>\n",
       "      <td>4.563063</td>\n",
       "      <td>...</td>\n",
       "      <td>17.773783</td>\n",
       "      <td>683.552185</td>\n",
       "      <td>987.040527</td>\n",
       "      <td>-24.686514</td>\n",
       "      <td>1782.076050</td>\n",
       "      <td>1003.147949</td>\n",
       "      <td>-25.386200</td>\n",
       "      <td>2611.919434</td>\n",
       "      <td>879.448059</td>\n",
       "      <td>-30.161133</td>\n",
       "    </tr>\n",
       "    <tr>\n",
       "      <th>0 days 00:00:00.040000</th>\n",
       "      <th>0 days 00:00:00.060000</th>\n",
       "      <td>0.176964</td>\n",
       "      <td>-10.843346</td>\n",
       "      <td>18.030664</td>\n",
       "      <td>-0.045253</td>\n",
       "      <td>0.000909</td>\n",
       "      <td>0.049436</td>\n",
       "      <td>11.647880</td>\n",
       "      <td>10.249892</td>\n",
       "      <td>10.948712</td>\n",
       "      <td>10.241356</td>\n",
       "      <td>...</td>\n",
       "      <td>23.584673</td>\n",
       "      <td>903.978210</td>\n",
       "      <td>978.669250</td>\n",
       "      <td>-27.896708</td>\n",
       "      <td>2041.843750</td>\n",
       "      <td>874.502869</td>\n",
       "      <td>-27.786980</td>\n",
       "      <td>2930.892334</td>\n",
       "      <td>885.325500</td>\n",
       "      <td>-32.680462</td>\n",
       "    </tr>\n",
       "  </tbody>\n",
       "</table>\n",
       "<p>5 rows × 25 columns</p>\n",
       "</div>"
      ],
      "text/plain": [
       "                                               Loudness_sma3  alphaRatio_sma3  \\\n",
       "start                  end                                                      \n",
       "0 days 00:00:00        0 days 00:00:00.020000       0.171682        -8.549108   \n",
       "0 days 00:00:00.010000 0 days 00:00:00.030000       0.174262        -7.213514   \n",
       "0 days 00:00:00.020000 0 days 00:00:00.040000       0.177049        -6.060549   \n",
       "0 days 00:00:00.030000 0 days 00:00:00.050000       0.177995        -7.191372   \n",
       "0 days 00:00:00.040000 0 days 00:00:00.060000       0.176964       -10.843346   \n",
       "\n",
       "                                               hammarbergIndex_sma3  \\\n",
       "start                  end                                            \n",
       "0 days 00:00:00        0 days 00:00:00.020000             17.937178   \n",
       "0 days 00:00:00.010000 0 days 00:00:00.030000             14.113811   \n",
       "0 days 00:00:00.020000 0 days 00:00:00.040000             11.679684   \n",
       "0 days 00:00:00.030000 0 days 00:00:00.050000             11.244885   \n",
       "0 days 00:00:00.040000 0 days 00:00:00.060000             18.030664   \n",
       "\n",
       "                                               slope0-500_sma3  \\\n",
       "start                  end                                       \n",
       "0 days 00:00:00        0 days 00:00:00.020000        -0.044203   \n",
       "0 days 00:00:00.010000 0 days 00:00:00.030000        -0.021557   \n",
       "0 days 00:00:00.020000 0 days 00:00:00.040000        -0.008040   \n",
       "0 days 00:00:00.030000 0 days 00:00:00.050000        -0.024570   \n",
       "0 days 00:00:00.040000 0 days 00:00:00.060000        -0.045253   \n",
       "\n",
       "                                               slope500-1500_sma3  \\\n",
       "start                  end                                          \n",
       "0 days 00:00:00        0 days 00:00:00.020000           -0.004924   \n",
       "0 days 00:00:00.010000 0 days 00:00:00.030000           -0.004548   \n",
       "0 days 00:00:00.020000 0 days 00:00:00.040000           -0.003126   \n",
       "0 days 00:00:00.030000 0 days 00:00:00.050000           -0.000249   \n",
       "0 days 00:00:00.040000 0 days 00:00:00.060000            0.000909   \n",
       "\n",
       "                                               spectralFlux_sma3  mfcc1_sma3  \\\n",
       "start                  end                                                     \n",
       "0 days 00:00:00        0 days 00:00:00.020000           0.007501    8.089675   \n",
       "0 days 00:00:00.010000 0 days 00:00:00.030000           0.020852    7.815128   \n",
       "0 days 00:00:00.020000 0 days 00:00:00.040000           0.030875    8.038446   \n",
       "0 days 00:00:00.030000 0 days 00:00:00.050000           0.043502    9.689507   \n",
       "0 days 00:00:00.040000 0 days 00:00:00.060000           0.049436   11.647880   \n",
       "\n",
       "                                               mfcc2_sma3  mfcc3_sma3  \\\n",
       "start                  end                                              \n",
       "0 days 00:00:00        0 days 00:00:00.020000    3.684633   10.559636   \n",
       "0 days 00:00:00.010000 0 days 00:00:00.030000    3.322604    8.408792   \n",
       "0 days 00:00:00.020000 0 days 00:00:00.040000    3.144581    8.047350   \n",
       "0 days 00:00:00.030000 0 days 00:00:00.050000    5.715604    8.120708   \n",
       "0 days 00:00:00.040000 0 days 00:00:00.060000   10.249892   10.948712   \n",
       "\n",
       "                                               mfcc4_sma3  ...  \\\n",
       "start                  end                                 ...   \n",
       "0 days 00:00:00        0 days 00:00:00.020000    2.022642  ...   \n",
       "0 days 00:00:00.010000 0 days 00:00:00.030000    0.962938  ...   \n",
       "0 days 00:00:00.020000 0 days 00:00:00.040000    1.714168  ...   \n",
       "0 days 00:00:00.030000 0 days 00:00:00.050000    4.563063  ...   \n",
       "0 days 00:00:00.040000 0 days 00:00:00.060000   10.241356  ...   \n",
       "\n",
       "                                               logRelF0-H1-A3_sma3nz  \\\n",
       "start                  end                                             \n",
       "0 days 00:00:00        0 days 00:00:00.020000               0.000000   \n",
       "0 days 00:00:00.010000 0 days 00:00:00.030000               2.524562   \n",
       "0 days 00:00:00.020000 0 days 00:00:00.040000               7.840576   \n",
       "0 days 00:00:00.030000 0 days 00:00:00.050000              17.773783   \n",
       "0 days 00:00:00.040000 0 days 00:00:00.060000              23.584673   \n",
       "\n",
       "                                               F1frequency_sma3nz  \\\n",
       "start                  end                                          \n",
       "0 days 00:00:00        0 days 00:00:00.020000          515.777344   \n",
       "0 days 00:00:00.010000 0 days 00:00:00.030000          511.435455   \n",
       "0 days 00:00:00.020000 0 days 00:00:00.040000          516.194519   \n",
       "0 days 00:00:00.030000 0 days 00:00:00.050000          683.552185   \n",
       "0 days 00:00:00.040000 0 days 00:00:00.060000          903.978210   \n",
       "\n",
       "                                               F1bandwidth_sma3nz  \\\n",
       "start                  end                                          \n",
       "0 days 00:00:00        0 days 00:00:00.020000          998.036316   \n",
       "0 days 00:00:00.010000 0 days 00:00:00.030000          984.341614   \n",
       "0 days 00:00:00.020000 0 days 00:00:00.040000          994.886475   \n",
       "0 days 00:00:00.030000 0 days 00:00:00.050000          987.040527   \n",
       "0 days 00:00:00.040000 0 days 00:00:00.060000          978.669250   \n",
       "\n",
       "                                               F1amplitudeLogRelF0_sma3nz  \\\n",
       "start                  end                                                  \n",
       "0 days 00:00:00        0 days 00:00:00.020000                 -140.662384   \n",
       "0 days 00:00:00.010000 0 days 00:00:00.030000                  -80.211670   \n",
       "0 days 00:00:00.020000 0 days 00:00:00.040000                  -21.763206   \n",
       "0 days 00:00:00.030000 0 days 00:00:00.050000                  -24.686514   \n",
       "0 days 00:00:00.040000 0 days 00:00:00.060000                  -27.896708   \n",
       "\n",
       "                                               F2frequency_sma3nz  \\\n",
       "start                  end                                          \n",
       "0 days 00:00:00        0 days 00:00:00.020000         1562.565063   \n",
       "0 days 00:00:00.010000 0 days 00:00:00.030000         1522.374634   \n",
       "0 days 00:00:00.020000 0 days 00:00:00.040000         1511.360840   \n",
       "0 days 00:00:00.030000 0 days 00:00:00.050000         1782.076050   \n",
       "0 days 00:00:00.040000 0 days 00:00:00.060000         2041.843750   \n",
       "\n",
       "                                               F2bandwidth_sma3nz  \\\n",
       "start                  end                                          \n",
       "0 days 00:00:00        0 days 00:00:00.020000         1092.897827   \n",
       "0 days 00:00:00.010000 0 days 00:00:00.030000         1076.443726   \n",
       "0 days 00:00:00.020000 0 days 00:00:00.040000         1159.270996   \n",
       "0 days 00:00:00.030000 0 days 00:00:00.050000         1003.147949   \n",
       "0 days 00:00:00.040000 0 days 00:00:00.060000          874.502869   \n",
       "\n",
       "                                               F2amplitudeLogRelF0_sma3nz  \\\n",
       "start                  end                                                  \n",
       "0 days 00:00:00        0 days 00:00:00.020000                 -139.921829   \n",
       "0 days 00:00:00.010000 0 days 00:00:00.030000                  -79.247849   \n",
       "0 days 00:00:00.020000 0 days 00:00:00.040000                  -21.066263   \n",
       "0 days 00:00:00.030000 0 days 00:00:00.050000                  -25.386200   \n",
       "0 days 00:00:00.040000 0 days 00:00:00.060000                  -27.786980   \n",
       "\n",
       "                                               F3frequency_sma3nz  \\\n",
       "start                  end                                          \n",
       "0 days 00:00:00        0 days 00:00:00.020000         2245.683594   \n",
       "0 days 00:00:00.010000 0 days 00:00:00.030000         2301.574463   \n",
       "0 days 00:00:00.020000 0 days 00:00:00.040000         2296.432861   \n",
       "0 days 00:00:00.030000 0 days 00:00:00.050000         2611.919434   \n",
       "0 days 00:00:00.040000 0 days 00:00:00.060000         2930.892334   \n",
       "\n",
       "                                               F3bandwidth_sma3nz  \\\n",
       "start                  end                                          \n",
       "0 days 00:00:00        0 days 00:00:00.020000          816.377747   \n",
       "0 days 00:00:00.010000 0 days 00:00:00.030000          763.513184   \n",
       "0 days 00:00:00.020000 0 days 00:00:00.040000          765.887207   \n",
       "0 days 00:00:00.030000 0 days 00:00:00.050000          879.448059   \n",
       "0 days 00:00:00.040000 0 days 00:00:00.060000          885.325500   \n",
       "\n",
       "                                               F3amplitudeLogRelF0_sma3nz  \n",
       "start                  end                                                 \n",
       "0 days 00:00:00        0 days 00:00:00.020000                 -140.248398  \n",
       "0 days 00:00:00.010000 0 days 00:00:00.030000                  -81.463966  \n",
       "0 days 00:00:00.020000 0 days 00:00:00.040000                  -24.833033  \n",
       "0 days 00:00:00.030000 0 days 00:00:00.050000                  -30.161133  \n",
       "0 days 00:00:00.040000 0 days 00:00:00.060000                  -32.680462  \n",
       "\n",
       "[5 rows x 25 columns]"
      ]
     },
     "execution_count": 15,
     "metadata": {},
     "output_type": "execute_result"
    }
   ],
   "source": [
    "features_egemaps_lld.head()"
   ]
  },
  {
   "cell_type": "markdown",
   "id": "42509897",
   "metadata": {},
   "source": [
    "## Corpus level"
   ]
  },
  {
   "cell_type": "markdown",
   "id": "a63194ec",
   "metadata": {},
   "source": [
    "### Reading"
   ]
  },
  {
   "cell_type": "code",
   "execution_count": null,
   "id": "4fc3522c",
   "metadata": {},
   "outputs": [
    {
     "name": "stdout",
     "output_type": "stream",
     "text": [
      "Extracting features for PT (58 files)...\n"
     ]
    },
    {
     "name": "stderr",
     "output_type": "stream",
     "text": [
      "  0%|          | 0/58 [00:00<?, ?it/s]"
     ]
    },
    {
     "name": "stderr",
     "output_type": "stream",
     "text": [
      "100%|██████████| 58/58 [02:19<00:00,  2.41s/it]\n"
     ]
    },
    {
     "name": "stdout",
     "output_type": "stream",
     "text": [
      "Saved PT features to PT_features_reading.csv\n",
      "Extracting features for HC (54 files)...\n"
     ]
    },
    {
     "name": "stderr",
     "output_type": "stream",
     "text": [
      "100%|██████████| 54/54 [01:51<00:00,  2.07s/it]"
     ]
    },
    {
     "name": "stdout",
     "output_type": "stream",
     "text": [
      "Saved HC features to HC_features_reading.csv\n"
     ]
    },
    {
     "name": "stderr",
     "output_type": "stream",
     "text": [
      "\n"
     ]
    }
   ],
   "source": [
    "# Paths to subcorpora\n",
    "base_dir = \"Androids-Corpus/Reading-Task/audio\"\n",
    "groups = [\"PT\", \"HC\"]  # PT = patient / depressed group, HC = healthy control\n",
    "\n",
    "# Define feature extractors\n",
    "smile_egemaps = opensmile.Smile(\n",
    "    feature_set=opensmile.FeatureSet.eGeMAPSv02,\n",
    "    feature_level=opensmile.FeatureLevel.Functionals,\n",
    ")\n",
    "\n",
    "# smile_compare = opensmile.Smile(\n",
    "#     feature_set=opensmile.FeatureSet.ComParE_2016,\n",
    "#     feature_level=opensmile.FeatureLevel.Functionals,\n",
    "# )\n",
    "\n",
    "# Loop over groups\n",
    "for group in groups:\n",
    "    audio_fpath = os.path.join(base_dir, group)\n",
    "    files = [f for f in os.listdir(audio_fpath) if f.endswith(\".wav\")]\n",
    "    target = 0 if group == \"HC\" else 1\n",
    "    \n",
    "    all_features = []\n",
    "    print(f\"Extracting features for {group} ({len(files)} files)...\")\n",
    "\n",
    "    for f in tqdm(files):\n",
    "        audio_file = os.path.join(audio_fpath, f)\n",
    "        try:\n",
    "            signal, sr = sf.read(audio_file)\n",
    "\n",
    "            # Extract features (you can choose one or both)\n",
    "            feat_egemaps = smile_egemaps.process_signal(signal, sr)\n",
    "\n",
    "            # Combine and add metadata\n",
    "            # combined = pd.concat([feat_egemaps, feat_compare], axis=1)\n",
    "            # combined[\"file\"] = f\n",
    "            feat_egemaps[\"file\"] = f\n",
    "            feat_egemaps[\"target\"] = target\n",
    "            all_features.append(feat_egemaps)\n",
    "        except Exception as e:\n",
    "            print(f\"Error processing {f}: {e}\")\n",
    "\n",
    "    # Concatenate all participants\n",
    "    df = pd.concat(all_features, ignore_index=True)\n",
    "\n",
    "    # Save per group\n",
    "    output_path = f\"{group}_features_reading.csv\"\n",
    "    df.to_csv(output_path, index=False)\n",
    "    print(f\"Saved {group} features to {output_path}\")\n"
   ]
  },
  {
   "cell_type": "markdown",
   "id": "051166ed",
   "metadata": {},
   "source": [
    "### Interview"
   ]
  },
  {
   "cell_type": "code",
   "execution_count": 7,
   "id": "78febb84",
   "metadata": {},
   "outputs": [],
   "source": [
    "inter_dir = \"Androids-Corpus/Interview-Task/audio_clip\"\n",
    "subdirs = [d for d in os.listdir(inter_dir) if os.path.isdir(os.path.join(inter_dir, d))]"
   ]
  },
  {
   "cell_type": "code",
   "execution_count": 8,
   "id": "e084f65a",
   "metadata": {},
   "outputs": [
    {
     "data": {
      "text/plain": [
       "['29_PF42_3', '68_PF43_3', '05_CF41_3', '32_PF51_2', '57_CF25_3']"
      ]
     },
     "execution_count": 8,
     "metadata": {},
     "output_type": "execute_result"
    }
   ],
   "source": [
    "subdirs[:5]"
   ]
  },
  {
   "cell_type": "code",
   "execution_count": 9,
   "id": "69824c62",
   "metadata": {},
   "outputs": [
    {
     "data": {
      "text/plain": [
       "116"
      ]
     },
     "execution_count": 9,
     "metadata": {},
     "output_type": "execute_result"
    }
   ],
   "source": [
    "len(subdirs)"
   ]
  },
  {
   "cell_type": "code",
   "execution_count": 13,
   "id": "85f171b2",
   "metadata": {},
   "outputs": [
    {
     "data": {
      "text/plain": [
       "'P'"
      ]
     },
     "execution_count": 13,
     "metadata": {},
     "output_type": "execute_result"
    }
   ],
   "source": [
    "subdirs[0].split(\"_\")[1][0]"
   ]
  },
  {
   "cell_type": "code",
   "execution_count": 4,
   "id": "b6c0afb6",
   "metadata": {},
   "outputs": [],
   "source": [
    "smile_egemaps = opensmile.Smile(\n",
    "    feature_set=opensmile.FeatureSet.eGeMAPSv02,\n",
    "    feature_level=opensmile.FeatureLevel.Functionals,\n",
    ")"
   ]
  },
  {
   "cell_type": "code",
   "execution_count": null,
   "id": "2f6738ab",
   "metadata": {},
   "outputs": [
    {
     "name": "stdout",
     "output_type": "stream",
     "text": [
      "Extracting features for 29_PF42_3 (1 files)...\n"
     ]
    },
    {
     "name": "stderr",
     "output_type": "stream",
     "text": [
      "100%|██████████| 1/1 [00:06<00:00,  6.11s/it]\n"
     ]
    },
    {
     "name": "stdout",
     "output_type": "stream",
     "text": [
      "Extracting features for 68_PF43_3 (6 files)...\n"
     ]
    },
    {
     "name": "stderr",
     "output_type": "stream",
     "text": [
      "100%|██████████| 6/6 [00:04<00:00,  1.26it/s]\n"
     ]
    },
    {
     "name": "stdout",
     "output_type": "stream",
     "text": [
      "Extracting features for 05_CF41_3 (13 files)...\n"
     ]
    },
    {
     "name": "stderr",
     "output_type": "stream",
     "text": [
      "100%|██████████| 13/13 [00:09<00:00,  1.44it/s]\n"
     ]
    },
    {
     "name": "stdout",
     "output_type": "stream",
     "text": [
      "Extracting features for 32_PF51_2 (3 files)...\n"
     ]
    },
    {
     "name": "stderr",
     "output_type": "stream",
     "text": [
      "100%|██████████| 3/3 [00:02<00:00,  1.03it/s]\n"
     ]
    },
    {
     "name": "stdout",
     "output_type": "stream",
     "text": [
      "Extracting features for 57_CF25_3 (7 files)...\n"
     ]
    },
    {
     "name": "stderr",
     "output_type": "stream",
     "text": [
      "100%|██████████| 7/7 [00:11<00:00,  1.61s/it]\n"
     ]
    },
    {
     "name": "stdout",
     "output_type": "stream",
     "text": [
      "Extracting features for 31_CF55_2 (19 files)...\n"
     ]
    },
    {
     "name": "stderr",
     "output_type": "stream",
     "text": [
      "100%|██████████| 19/19 [00:05<00:00,  3.41it/s]\n"
     ]
    },
    {
     "name": "stdout",
     "output_type": "stream",
     "text": [
      "Extracting features for 06_PM64_2 (2 files)...\n"
     ]
    },
    {
     "name": "stderr",
     "output_type": "stream",
     "text": [
      "100%|██████████| 2/2 [00:16<00:00,  8.04s/it]\n"
     ]
    },
    {
     "name": "stdout",
     "output_type": "stream",
     "text": [
      "Extracting features for 40_CF59_1 (8 files)...\n"
     ]
    },
    {
     "name": "stderr",
     "output_type": "stream",
     "text": [
      "100%|██████████| 8/8 [00:12<00:00,  1.51s/it]\n"
     ]
    },
    {
     "name": "stdout",
     "output_type": "stream",
     "text": [
      "Extracting features for 33_CF46_3 (7 files)...\n"
     ]
    },
    {
     "name": "stderr",
     "output_type": "stream",
     "text": [
      "100%|██████████| 7/7 [00:10<00:00,  1.52s/it]\n"
     ]
    },
    {
     "name": "stdout",
     "output_type": "stream",
     "text": [
      "Extracting features for 56_PM57_4 (21 files)...\n"
     ]
    },
    {
     "name": "stderr",
     "output_type": "stream",
     "text": [
      "100%|██████████| 21/21 [00:07<00:00,  2.82it/s]\n"
     ]
    },
    {
     "name": "stdout",
     "output_type": "stream",
     "text": [
      "Extracting features for 44_PF29_3 (4 files)...\n"
     ]
    },
    {
     "name": "stderr",
     "output_type": "stream",
     "text": [
      "100%|██████████| 4/4 [00:04<00:00,  1.24s/it]\n"
     ]
    },
    {
     "name": "stdout",
     "output_type": "stream",
     "text": [
      "Extracting features for 27_PF26_3 (2 files)...\n"
     ]
    },
    {
     "name": "stderr",
     "output_type": "stream",
     "text": [
      "100%|██████████| 2/2 [00:07<00:00,  3.67s/it]\n"
     ]
    },
    {
     "name": "stdout",
     "output_type": "stream",
     "text": [
      "Extracting features for 36_PF38_2 (7 files)...\n"
     ]
    },
    {
     "name": "stderr",
     "output_type": "stream",
     "text": [
      "100%|██████████| 7/7 [00:04<00:00,  1.47it/s]\n"
     ]
    },
    {
     "name": "stdout",
     "output_type": "stream",
     "text": [
      "Extracting features for 48_CF34_3 (22 files)...\n"
     ]
    },
    {
     "name": "stderr",
     "output_type": "stream",
     "text": [
      "100%|██████████| 22/22 [00:06<00:00,  3.54it/s]\n"
     ]
    },
    {
     "name": "stdout",
     "output_type": "stream",
     "text": [
      "Extracting features for 15_CF53_3 (3 files)...\n"
     ]
    },
    {
     "name": "stderr",
     "output_type": "stream",
     "text": [
      "100%|██████████| 3/3 [00:11<00:00,  3.76s/it]\n"
     ]
    },
    {
     "name": "stdout",
     "output_type": "stream",
     "text": [
      "Extracting features for 64_PF54_2 (6 files)...\n"
     ]
    },
    {
     "name": "stderr",
     "output_type": "stream",
     "text": [
      "100%|██████████| 6/6 [00:08<00:00,  1.38s/it]\n"
     ]
    },
    {
     "name": "stdout",
     "output_type": "stream",
     "text": [
      "Extracting features for 18_PF33_2 (6 files)...\n"
     ]
    },
    {
     "name": "stderr",
     "output_type": "stream",
     "text": [
      "100%|██████████| 6/6 [00:04<00:00,  1.47it/s]\n"
     ]
    },
    {
     "name": "stdout",
     "output_type": "stream",
     "text": [
      "Extracting features for 04_PF50_2 (7 files)...\n"
     ]
    },
    {
     "name": "stderr",
     "output_type": "stream",
     "text": [
      "100%|██████████| 7/7 [00:10<00:00,  1.43s/it]\n"
     ]
    },
    {
     "name": "stdout",
     "output_type": "stream",
     "text": [
      "Extracting features for 46_CF39_3 (13 files)...\n"
     ]
    },
    {
     "name": "stderr",
     "output_type": "stream",
     "text": [
      "100%|██████████| 13/13 [00:07<00:00,  1.65it/s]\n"
     ]
    },
    {
     "name": "stdout",
     "output_type": "stream",
     "text": [
      "Extracting features for 62_PF56_3 (3 files)...\n"
     ]
    },
    {
     "name": "stderr",
     "output_type": "stream",
     "text": [
      "100%|██████████| 3/3 [00:13<00:00,  4.40s/it]\n"
     ]
    },
    {
     "name": "stdout",
     "output_type": "stream",
     "text": [
      "Extracting features for 54_CM48_2 (13 files)...\n"
     ]
    },
    {
     "name": "stderr",
     "output_type": "stream",
     "text": [
      "100%|██████████| 13/13 [00:07<00:00,  1.84it/s]\n"
     ]
    },
    {
     "name": "stdout",
     "output_type": "stream",
     "text": [
      "Extracting features for 67_PF54_1 (7 files)...\n"
     ]
    },
    {
     "name": "stderr",
     "output_type": "stream",
     "text": [
      "100%|██████████| 7/7 [00:06<00:00,  1.14it/s]\n"
     ]
    },
    {
     "name": "stdout",
     "output_type": "stream",
     "text": [
      "Extracting features for 38_CM27_3 (14 files)...\n"
     ]
    },
    {
     "name": "stderr",
     "output_type": "stream",
     "text": [
      "100%|██████████| 14/14 [00:12<00:00,  1.16it/s]\n"
     ]
    },
    {
     "name": "stdout",
     "output_type": "stream",
     "text": [
      "Extracting features for 65_PF41_3 (4 files)...\n"
     ]
    },
    {
     "name": "stderr",
     "output_type": "stream",
     "text": [
      "100%|██████████| 4/4 [00:05<00:00,  1.35s/it]\n"
     ]
    },
    {
     "name": "stdout",
     "output_type": "stream",
     "text": [
      "Extracting features for 09_PM60_2 (9 files)...\n"
     ]
    },
    {
     "name": "stderr",
     "output_type": "stream",
     "text": [
      "100%|██████████| 9/9 [00:11<00:00,  1.23s/it]\n"
     ]
    },
    {
     "name": "stdout",
     "output_type": "stream",
     "text": [
      "Extracting features for 31_PF68_4 (1 files)...\n"
     ]
    },
    {
     "name": "stderr",
     "output_type": "stream",
     "text": [
      "100%|██████████| 1/1 [00:08<00:00,  8.07s/it]\n"
     ]
    },
    {
     "name": "stdout",
     "output_type": "stream",
     "text": [
      "Extracting features for 14_PF35_3 (4 files)...\n"
     ]
    },
    {
     "name": "stderr",
     "output_type": "stream",
     "text": [
      "100%|██████████| 4/4 [00:05<00:00,  1.25s/it]\n"
     ]
    },
    {
     "name": "stdout",
     "output_type": "stream",
     "text": [
      "Extracting features for 26_PM54_3 (3 files)...\n"
     ]
    },
    {
     "name": "stderr",
     "output_type": "stream",
     "text": [
      "100%|██████████| 3/3 [00:08<00:00,  2.84s/it]\n"
     ]
    },
    {
     "name": "stdout",
     "output_type": "stream",
     "text": [
      "Extracting features for 23_PF55_2 (7 files)...\n"
     ]
    },
    {
     "name": "stderr",
     "output_type": "stream",
     "text": [
      "100%|██████████| 7/7 [00:02<00:00,  3.22it/s]\n"
     ]
    },
    {
     "name": "stdout",
     "output_type": "stream",
     "text": [
      "Extracting features for 58_PM43_3 (5 files)...\n"
     ]
    },
    {
     "name": "stderr",
     "output_type": "stream",
     "text": [
      "100%|██████████| 5/5 [00:07<00:00,  1.44s/it]\n"
     ]
    },
    {
     "name": "stdout",
     "output_type": "stream",
     "text": [
      "Extracting features for 71_PM68_1 (1 files)...\n"
     ]
    },
    {
     "name": "stderr",
     "output_type": "stream",
     "text": [
      "100%|██████████| 1/1 [00:11<00:00, 11.81s/it]\n"
     ]
    },
    {
     "name": "stdout",
     "output_type": "stream",
     "text": [
      "Extracting features for 26_CM31_3 (1 files)...\n"
     ]
    },
    {
     "name": "stderr",
     "output_type": "stream",
     "text": [
      "100%|██████████| 1/1 [00:08<00:00,  8.77s/it]\n"
     ]
    },
    {
     "name": "stdout",
     "output_type": "stream",
     "text": [
      "Extracting features for 20_PM43_2 (7 files)...\n"
     ]
    },
    {
     "name": "stderr",
     "output_type": "stream",
     "text": [
      "100%|██████████| 7/7 [00:03<00:00,  1.96it/s]\n"
     ]
    },
    {
     "name": "stdout",
     "output_type": "stream",
     "text": [
      "Extracting features for 53_PM50_2 (3 files)...\n"
     ]
    },
    {
     "name": "stderr",
     "output_type": "stream",
     "text": [
      "100%|██████████| 3/3 [00:09<00:00,  3.08s/it]\n"
     ]
    },
    {
     "name": "stdout",
     "output_type": "stream",
     "text": [
      "Extracting features for 07_PM39_4 (5 files)...\n"
     ]
    },
    {
     "name": "stderr",
     "output_type": "stream",
     "text": [
      "100%|██████████| 5/5 [00:14<00:00,  3.00s/it]\n"
     ]
    },
    {
     "name": "stdout",
     "output_type": "stream",
     "text": [
      "Extracting features for 37_CF69_1 (21 files)...\n"
     ]
    },
    {
     "name": "stderr",
     "output_type": "stream",
     "text": [
      "100%|██████████| 21/21 [00:09<00:00,  2.10it/s]\n"
     ]
    },
    {
     "name": "stdout",
     "output_type": "stream",
     "text": [
      "Extracting features for 16_CF33_4 (3 files)...\n"
     ]
    },
    {
     "name": "stderr",
     "output_type": "stream",
     "text": [
      "100%|██████████| 3/3 [00:10<00:00,  3.37s/it]\n"
     ]
    },
    {
     "name": "stdout",
     "output_type": "stream",
     "text": [
      "Extracting features for 57_PM56_2 (7 files)...\n"
     ]
    },
    {
     "name": "stderr",
     "output_type": "stream",
     "text": [
      "100%|██████████| 7/7 [00:05<00:00,  1.26it/s]\n"
     ]
    },
    {
     "name": "stdout",
     "output_type": "stream",
     "text": [
      "Extracting features for 49_CM54_4 (9 files)...\n"
     ]
    },
    {
     "name": "stderr",
     "output_type": "stream",
     "text": [
      "100%|██████████| 9/9 [00:09<00:00,  1.01s/it]\n"
     ]
    },
    {
     "name": "stdout",
     "output_type": "stream",
     "text": [
      "Extracting features for 01_CF56_1 (10 files)...\n"
     ]
    },
    {
     "name": "stderr",
     "output_type": "stream",
     "text": [
      "100%|██████████| 10/10 [00:07<00:00,  1.27it/s]\n"
     ]
    },
    {
     "name": "stdout",
     "output_type": "stream",
     "text": [
      "Extracting features for 18_CM64_3 (3 files)...\n"
     ]
    },
    {
     "name": "stderr",
     "output_type": "stream",
     "text": [
      "100%|██████████| 3/3 [00:12<00:00,  4.08s/it]\n"
     ]
    },
    {
     "name": "stdout",
     "output_type": "stream",
     "text": [
      "Extracting features for 13_CF45_2 (23 files)...\n"
     ]
    },
    {
     "name": "stderr",
     "output_type": "stream",
     "text": [
      "100%|██████████| 23/23 [00:08<00:00,  2.81it/s]\n"
     ]
    },
    {
     "name": "stdout",
     "output_type": "stream",
     "text": [
      "Extracting features for 10_PF51_1 (5 files)...\n"
     ]
    },
    {
     "name": "stderr",
     "output_type": "stream",
     "text": [
      "100%|██████████| 5/5 [00:06<00:00,  1.40s/it]\n"
     ]
    },
    {
     "name": "stdout",
     "output_type": "stream",
     "text": [
      "Extracting features for 20_CM51_3 (4 files)...\n"
     ]
    },
    {
     "name": "stderr",
     "output_type": "stream",
     "text": [
      "100%|██████████| 4/4 [00:10<00:00,  2.60s/it]\n"
     ]
    },
    {
     "name": "stdout",
     "output_type": "stream",
     "text": [
      "Extracting features for 19_CF62_4 (3 files)...\n"
     ]
    },
    {
     "name": "stderr",
     "output_type": "stream",
     "text": [
      "100%|██████████| 3/3 [00:09<00:00,  3.01s/it]\n"
     ]
    },
    {
     "name": "stdout",
     "output_type": "stream",
     "text": [
      "Extracting features for 47_CF61_2 (16 files)...\n"
     ]
    },
    {
     "name": "stderr",
     "output_type": "stream",
     "text": [
      "100%|██████████| 16/16 [00:08<00:00,  1.85it/s]\n"
     ]
    },
    {
     "name": "stdout",
     "output_type": "stream",
     "text": [
      "Extracting features for 29_CF34_3 (3 files)...\n"
     ]
    },
    {
     "name": "stderr",
     "output_type": "stream",
     "text": [
      "100%|██████████| 3/3 [00:08<00:00,  2.85s/it]\n"
     ]
    },
    {
     "name": "stdout",
     "output_type": "stream",
     "text": [
      "Extracting features for 49_PM31_3 (5 files)...\n"
     ]
    },
    {
     "name": "stderr",
     "output_type": "stream",
     "text": [
      "100%|██████████| 5/5 [00:05<00:00,  1.05s/it]\n"
     ]
    },
    {
     "name": "stdout",
     "output_type": "stream",
     "text": [
      "Extracting features for 41_PF32_4 (4 files)...\n"
     ]
    },
    {
     "name": "stderr",
     "output_type": "stream",
     "text": [
      "100%|██████████| 4/4 [00:04<00:00,  1.21s/it]\n"
     ]
    },
    {
     "name": "stdout",
     "output_type": "stream",
     "text": [
      "Extracting features for 44_CF37_3 (11 files)...\n"
     ]
    },
    {
     "name": "stderr",
     "output_type": "stream",
     "text": [
      "100%|██████████| 11/11 [00:09<00:00,  1.15it/s]\n"
     ]
    },
    {
     "name": "stdout",
     "output_type": "stream",
     "text": [
      "Extracting features for 24_PF56_2 (1 files)...\n"
     ]
    },
    {
     "name": "stderr",
     "output_type": "stream",
     "text": [
      "100%|██████████| 1/1 [00:07<00:00,  7.25s/it]\n"
     ]
    },
    {
     "name": "stdout",
     "output_type": "stream",
     "text": [
      "Extracting features for 51_CF52_2 (11 files)...\n"
     ]
    },
    {
     "name": "stderr",
     "output_type": "stream",
     "text": [
      "100%|██████████| 11/11 [00:07<00:00,  1.49it/s]\n"
     ]
    },
    {
     "name": "stdout",
     "output_type": "stream",
     "text": [
      "Extracting features for 37_PF40_3 (6 files)...\n"
     ]
    },
    {
     "name": "stderr",
     "output_type": "stream",
     "text": [
      "100%|██████████| 6/6 [00:01<00:00,  3.30it/s]\n"
     ]
    },
    {
     "name": "stdout",
     "output_type": "stream",
     "text": [
      "Extracting features for 39_CM27_3 (20 files)...\n"
     ]
    },
    {
     "name": "stderr",
     "output_type": "stream",
     "text": [
      "100%|██████████| 20/20 [00:08<00:00,  2.30it/s]\n"
     ]
    },
    {
     "name": "stdout",
     "output_type": "stream",
     "text": [
      "Extracting features for 02_PM65_2 (5 files)...\n"
     ]
    },
    {
     "name": "stderr",
     "output_type": "stream",
     "text": [
      "100%|██████████| 5/5 [00:12<00:00,  2.49s/it]\n"
     ]
    },
    {
     "name": "stdout",
     "output_type": "stream",
     "text": [
      "Extracting features for 09_CF56_3 (4 files)...\n"
     ]
    },
    {
     "name": "stderr",
     "output_type": "stream",
     "text": [
      "100%|██████████| 4/4 [00:11<00:00,  2.80s/it]\n"
     ]
    },
    {
     "name": "stdout",
     "output_type": "stream",
     "text": [
      "Extracting features for 51_PF58_2 (8 files)...\n"
     ]
    },
    {
     "name": "stderr",
     "output_type": "stream",
     "text": [
      "100%|██████████| 8/8 [00:03<00:00,  2.02it/s]\n"
     ]
    },
    {
     "name": "stdout",
     "output_type": "stream",
     "text": [
      "Extracting features for 69_PF48_3 (2 files)...\n"
     ]
    },
    {
     "name": "stderr",
     "output_type": "stream",
     "text": [
      "100%|██████████| 2/2 [00:29<00:00, 14.97s/it]\n"
     ]
    },
    {
     "name": "stdout",
     "output_type": "stream",
     "text": [
      "Extracting features for 46_PF44_2 (8 files)...\n"
     ]
    },
    {
     "name": "stderr",
     "output_type": "stream",
     "text": [
      "100%|██████████| 8/8 [00:01<00:00,  4.76it/s]\n"
     ]
    },
    {
     "name": "stdout",
     "output_type": "stream",
     "text": [
      "Extracting features for 32_CF22_3 (9 files)...\n"
     ]
    },
    {
     "name": "stderr",
     "output_type": "stream",
     "text": [
      "100%|██████████| 9/9 [00:10<00:00,  1.14s/it]\n"
     ]
    },
    {
     "name": "stdout",
     "output_type": "stream",
     "text": [
      "Extracting features for 07_CF50_2 (8 files)...\n"
     ]
    },
    {
     "name": "stderr",
     "output_type": "stream",
     "text": [
      "100%|██████████| 8/8 [00:09<00:00,  1.16s/it]\n"
     ]
    },
    {
     "name": "stdout",
     "output_type": "stream",
     "text": [
      "Extracting features for 72_PM53_1 (4 files)...\n"
     ]
    },
    {
     "name": "stderr",
     "output_type": "stream",
     "text": [
      "100%|██████████| 4/4 [00:09<00:00,  2.34s/it]\n"
     ]
    },
    {
     "name": "stdout",
     "output_type": "stream",
     "text": [
      "Extracting features for 52_PM53_4 (7 files)...\n"
     ]
    },
    {
     "name": "stderr",
     "output_type": "stream",
     "text": [
      "100%|██████████| 7/7 [00:05<00:00,  1.28it/s]\n"
     ]
    },
    {
     "name": "stdout",
     "output_type": "stream",
     "text": [
      "Extracting features for 50_CF46_2 (16 files)...\n"
     ]
    },
    {
     "name": "stderr",
     "output_type": "stream",
     "text": [
      "100%|██████████| 16/16 [00:06<00:00,  2.48it/s]\n"
     ]
    },
    {
     "name": "stdout",
     "output_type": "stream",
     "text": [
      "Extracting features for 06_CF44_2 (26 files)...\n"
     ]
    },
    {
     "name": "stderr",
     "output_type": "stream",
     "text": [
      "100%|██████████| 26/26 [00:09<00:00,  2.85it/s]\n"
     ]
    },
    {
     "name": "stdout",
     "output_type": "stream",
     "text": [
      "Extracting features for 11_CF44_2 (6 files)...\n"
     ]
    },
    {
     "name": "stderr",
     "output_type": "stream",
     "text": [
      "100%|██████████| 6/6 [00:13<00:00,  2.29s/it]\n"
     ]
    },
    {
     "name": "stdout",
     "output_type": "stream",
     "text": [
      "Extracting features for 28_CF34_3 (6 files)...\n"
     ]
    },
    {
     "name": "stderr",
     "output_type": "stream",
     "text": [
      "100%|██████████| 6/6 [00:07<00:00,  1.26s/it]\n"
     ]
    },
    {
     "name": "stdout",
     "output_type": "stream",
     "text": [
      "Extracting features for 12_PF68_1 (4 files)...\n"
     ]
    },
    {
     "name": "stderr",
     "output_type": "stream",
     "text": [
      "100%|██████████| 4/4 [00:06<00:00,  1.53s/it]\n"
     ]
    },
    {
     "name": "stdout",
     "output_type": "stream",
     "text": [
      "Extracting features for 22_CF50_3 (13 files)...\n"
     ]
    },
    {
     "name": "stderr",
     "output_type": "stream",
     "text": [
      "100%|██████████| 13/13 [00:09<00:00,  1.40it/s]\n"
     ]
    },
    {
     "name": "stdout",
     "output_type": "stream",
     "text": [
      "Extracting features for 11_PF34_4 (3 files)...\n"
     ]
    },
    {
     "name": "stderr",
     "output_type": "stream",
     "text": [
      "100%|██████████| 3/3 [00:13<00:00,  4.64s/it]\n"
     ]
    },
    {
     "name": "stdout",
     "output_type": "stream",
     "text": [
      "Extracting features for 38_PF31_2 (5 files)...\n"
     ]
    },
    {
     "name": "stderr",
     "output_type": "stream",
     "text": [
      "100%|██████████| 5/5 [00:04<00:00,  1.12it/s]\n"
     ]
    },
    {
     "name": "stdout",
     "output_type": "stream",
     "text": [
      "Extracting features for 60_PF56_x (5 files)...\n"
     ]
    },
    {
     "name": "stderr",
     "output_type": "stream",
     "text": [
      "100%|██████████| 5/5 [00:03<00:00,  1.64it/s]\n"
     ]
    },
    {
     "name": "stdout",
     "output_type": "stream",
     "text": [
      "Extracting features for 19_PF43_2 (2 files)...\n"
     ]
    },
    {
     "name": "stderr",
     "output_type": "stream",
     "text": [
      "100%|██████████| 2/2 [00:07<00:00,  3.75s/it]\n"
     ]
    },
    {
     "name": "stdout",
     "output_type": "stream",
     "text": [
      "Extracting features for 59_PF36_x (3 files)...\n"
     ]
    },
    {
     "name": "stderr",
     "output_type": "stream",
     "text": [
      "100%|██████████| 3/3 [00:11<00:00,  3.69s/it]\n"
     ]
    },
    {
     "name": "stdout",
     "output_type": "stream",
     "text": [
      "Extracting features for 41_CM71_2 (17 files)...\n"
     ]
    },
    {
     "name": "stderr",
     "output_type": "stream",
     "text": [
      "100%|██████████| 17/17 [00:11<00:00,  1.49it/s]\n"
     ]
    },
    {
     "name": "stdout",
     "output_type": "stream",
     "text": [
      "Extracting features for 48_PF43_3 (3 files)...\n"
     ]
    },
    {
     "name": "stderr",
     "output_type": "stream",
     "text": [
      "100%|██████████| 3/3 [00:05<00:00,  1.73s/it]\n"
     ]
    },
    {
     "name": "stdout",
     "output_type": "stream",
     "text": [
      "Extracting features for 25_PF36_4 (2 files)...\n"
     ]
    },
    {
     "name": "stderr",
     "output_type": "stream",
     "text": [
      "100%|██████████| 2/2 [00:04<00:00,  2.44s/it]\n"
     ]
    },
    {
     "name": "stdout",
     "output_type": "stream",
     "text": [
      "Extracting features for 02_CM57_2 (12 files)...\n"
     ]
    },
    {
     "name": "stderr",
     "output_type": "stream",
     "text": [
      "100%|██████████| 12/12 [00:08<00:00,  1.42it/s]\n"
     ]
    },
    {
     "name": "stdout",
     "output_type": "stream",
     "text": [
      "Extracting features for 04_CF57_3 (7 files)...\n"
     ]
    },
    {
     "name": "stderr",
     "output_type": "stream",
     "text": [
      "100%|██████████| 7/7 [00:08<00:00,  1.27s/it]\n"
     ]
    },
    {
     "name": "stdout",
     "output_type": "stream",
     "text": [
      "Extracting features for 01_PM58_2 (7 files)...\n"
     ]
    },
    {
     "name": "stderr",
     "output_type": "stream",
     "text": [
      "100%|██████████| 7/7 [00:10<00:00,  1.46s/it]\n"
     ]
    },
    {
     "name": "stdout",
     "output_type": "stream",
     "text": [
      "Extracting features for 03_CF30_3 (13 files)...\n"
     ]
    },
    {
     "name": "stderr",
     "output_type": "stream",
     "text": [
      "100%|██████████| 13/13 [00:06<00:00,  1.98it/s]\n"
     ]
    },
    {
     "name": "stdout",
     "output_type": "stream",
     "text": [
      "Extracting features for 35_PF43_2 (1 files)...\n"
     ]
    },
    {
     "name": "stderr",
     "output_type": "stream",
     "text": [
      "100%|██████████| 1/1 [00:12<00:00, 12.34s/it]\n"
     ]
    },
    {
     "name": "stdout",
     "output_type": "stream",
     "text": [
      "Extracting features for 36_CF59_2 (11 files)...\n"
     ]
    },
    {
     "name": "stderr",
     "output_type": "stream",
     "text": [
      "100%|██████████| 11/11 [00:12<00:00,  1.16s/it]\n"
     ]
    },
    {
     "name": "stdout",
     "output_type": "stream",
     "text": [
      "Extracting features for 47_PF42_2 (6 files)...\n"
     ]
    },
    {
     "name": "stderr",
     "output_type": "stream",
     "text": [
      "100%|██████████| 6/6 [00:09<00:00,  1.66s/it]\n"
     ]
    },
    {
     "name": "stdout",
     "output_type": "stream",
     "text": [
      "Extracting features for 56_CM23_3 (16 files)...\n"
     ]
    },
    {
     "name": "stderr",
     "output_type": "stream",
     "text": [
      "100%|██████████| 16/16 [00:09<00:00,  1.75it/s]\n"
     ]
    },
    {
     "name": "stdout",
     "output_type": "stream",
     "text": [
      "Extracting features for 53_CF52_1 (33 files)...\n"
     ]
    },
    {
     "name": "stderr",
     "output_type": "stream",
     "text": [
      "100%|██████████| 33/33 [00:04<00:00,  6.82it/s]\n"
     ]
    },
    {
     "name": "stdout",
     "output_type": "stream",
     "text": [
      "Extracting features for 08_CF42_2 (5 files)...\n"
     ]
    },
    {
     "name": "stderr",
     "output_type": "stream",
     "text": [
      "100%|██████████| 5/5 [00:15<00:00,  3.14s/it]\n"
     ]
    },
    {
     "name": "stdout",
     "output_type": "stream",
     "text": [
      "Extracting features for 70_PF51_1 (7 files)...\n"
     ]
    },
    {
     "name": "stderr",
     "output_type": "stream",
     "text": [
      "100%|██████████| 7/7 [00:02<00:00,  2.63it/s]\n"
     ]
    },
    {
     "name": "stdout",
     "output_type": "stream",
     "text": [
      "Extracting features for 43_PF53_4 (2 files)...\n"
     ]
    },
    {
     "name": "stderr",
     "output_type": "stream",
     "text": [
      "100%|██████████| 2/2 [00:04<00:00,  2.09s/it]\n"
     ]
    },
    {
     "name": "stdout",
     "output_type": "stream",
     "text": [
      "Extracting features for 21_PM33_3 (7 files)...\n"
     ]
    },
    {
     "name": "stderr",
     "output_type": "stream",
     "text": [
      "100%|██████████| 7/7 [00:03<00:00,  2.10it/s]\n"
     ]
    },
    {
     "name": "stdout",
     "output_type": "stream",
     "text": [
      "Extracting features for 25_CF59_3 (5 files)...\n"
     ]
    },
    {
     "name": "stderr",
     "output_type": "stream",
     "text": [
      "100%|██████████| 5/5 [00:07<00:00,  1.60s/it]\n"
     ]
    },
    {
     "name": "stdout",
     "output_type": "stream",
     "text": [
      "Extracting features for 61_PM59_3 (4 files)...\n"
     ]
    },
    {
     "name": "stderr",
     "output_type": "stream",
     "text": [
      "100%|██████████| 4/4 [00:08<00:00,  2.00s/it]\n"
     ]
    },
    {
     "name": "stdout",
     "output_type": "stream",
     "text": [
      "Extracting features for 05_PM53_4 (1 files)...\n"
     ]
    },
    {
     "name": "stderr",
     "output_type": "stream",
     "text": [
      "100%|██████████| 1/1 [00:25<00:00, 25.53s/it]\n"
     ]
    },
    {
     "name": "stdout",
     "output_type": "stream",
     "text": [
      "Extracting features for 30_CF62_3 (4 files)...\n"
     ]
    },
    {
     "name": "stderr",
     "output_type": "stream",
     "text": [
      "100%|██████████| 4/4 [00:08<00:00,  2.17s/it]\n"
     ]
    },
    {
     "name": "stdout",
     "output_type": "stream",
     "text": [
      "Extracting features for 23_CF55_3 (1 files)...\n"
     ]
    },
    {
     "name": "stderr",
     "output_type": "stream",
     "text": [
      "100%|██████████| 1/1 [00:10<00:00, 10.36s/it]\n"
     ]
    },
    {
     "name": "stdout",
     "output_type": "stream",
     "text": [
      "Extracting features for 22_PF40_3 (6 files)...\n"
     ]
    },
    {
     "name": "stderr",
     "output_type": "stream",
     "text": [
      "100%|██████████| 6/6 [00:06<00:00,  1.10s/it]\n"
     ]
    },
    {
     "name": "stdout",
     "output_type": "stream",
     "text": [
      "Extracting features for 17_PF44_2 (7 files)...\n"
     ]
    },
    {
     "name": "stderr",
     "output_type": "stream",
     "text": [
      "100%|██████████| 7/7 [00:04<00:00,  1.41it/s]\n"
     ]
    },
    {
     "name": "stdout",
     "output_type": "stream",
     "text": [
      "Extracting features for 14_CF49_3 (12 files)...\n"
     ]
    },
    {
     "name": "stderr",
     "output_type": "stream",
     "text": [
      "100%|██████████| 12/12 [00:07<00:00,  1.54it/s]\n"
     ]
    },
    {
     "name": "stdout",
     "output_type": "stream",
     "text": [
      "Extracting features for 13_PF58_2 (5 files)...\n"
     ]
    },
    {
     "name": "stderr",
     "output_type": "stream",
     "text": [
      "100%|██████████| 5/5 [00:05<00:00,  1.17s/it]\n"
     ]
    },
    {
     "name": "stdout",
     "output_type": "stream",
     "text": [
      "Extracting features for 50_PF35_3 (3 files)...\n"
     ]
    },
    {
     "name": "stderr",
     "output_type": "stream",
     "text": [
      "100%|██████████| 3/3 [00:04<00:00,  1.60s/it]\n"
     ]
    },
    {
     "name": "stdout",
     "output_type": "stream",
     "text": [
      "Extracting features for 54_PF48_3 (12 files)...\n"
     ]
    },
    {
     "name": "stderr",
     "output_type": "stream",
     "text": [
      "100%|██████████| 12/12 [00:08<00:00,  1.36it/s]\n"
     ]
    },
    {
     "name": "stdout",
     "output_type": "stream",
     "text": [
      "Extracting features for 12_CF36_1 (24 files)...\n"
     ]
    },
    {
     "name": "stderr",
     "output_type": "stream",
     "text": [
      "100%|██████████| 24/24 [00:08<00:00,  2.88it/s]\n"
     ]
    },
    {
     "name": "stdout",
     "output_type": "stream",
     "text": [
      "Extracting features for 33_PM19_3 (8 files)...\n"
     ]
    },
    {
     "name": "stderr",
     "output_type": "stream",
     "text": [
      "100%|██████████| 8/8 [00:05<00:00,  1.34it/s]\n"
     ]
    },
    {
     "name": "stdout",
     "output_type": "stream",
     "text": [
      "Extracting features for 10_CF51_2 (15 files)...\n"
     ]
    },
    {
     "name": "stderr",
     "output_type": "stream",
     "text": [
      "100%|██████████| 15/15 [00:09<00:00,  1.66it/s]\n"
     ]
    },
    {
     "name": "stdout",
     "output_type": "stream",
     "text": [
      "Extracting features for 17_CF55_3 (3 files)...\n"
     ]
    },
    {
     "name": "stderr",
     "output_type": "stream",
     "text": [
      "100%|██████████| 3/3 [00:09<00:00,  3.25s/it]\n"
     ]
    },
    {
     "name": "stdout",
     "output_type": "stream",
     "text": [
      "Extracting features for 03_PF66_3 (4 files)...\n"
     ]
    },
    {
     "name": "stderr",
     "output_type": "stream",
     "text": [
      "100%|██████████| 4/4 [00:14<00:00,  3.72s/it]\n"
     ]
    },
    {
     "name": "stdout",
     "output_type": "stream",
     "text": [
      "Extracting features for 42_PF63_4 (2 files)...\n"
     ]
    },
    {
     "name": "stderr",
     "output_type": "stream",
     "text": [
      "100%|██████████| 2/2 [00:05<00:00,  2.64s/it]\n"
     ]
    },
    {
     "name": "stdout",
     "output_type": "stream",
     "text": [
      "Extracting features for 15_PM63_4 (3 files)...\n"
     ]
    },
    {
     "name": "stderr",
     "output_type": "stream",
     "text": [
      "100%|██████████| 3/3 [00:07<00:00,  2.50s/it]\n"
     ]
    },
    {
     "name": "stdout",
     "output_type": "stream",
     "text": [
      "Extracting features for 45_CF40_3 (9 files)...\n"
     ]
    },
    {
     "name": "stderr",
     "output_type": "stream",
     "text": [
      "100%|██████████| 9/9 [00:09<00:00,  1.11s/it]\n"
     ]
    },
    {
     "name": "stdout",
     "output_type": "stream",
     "text": [
      "Extracting features for 21_CF58_3 (7 files)...\n"
     ]
    },
    {
     "name": "stderr",
     "output_type": "stream",
     "text": [
      "100%|██████████| 7/7 [00:06<00:00,  1.04it/s]\n"
     ]
    },
    {
     "name": "stdout",
     "output_type": "stream",
     "text": [
      "Extracting features for 27_CF63_4 (4 files)...\n"
     ]
    },
    {
     "name": "stderr",
     "output_type": "stream",
     "text": [
      "100%|██████████| 4/4 [00:09<00:00,  2.31s/it]\n"
     ]
    },
    {
     "name": "stdout",
     "output_type": "stream",
     "text": [
      "Extracting features for 52_CF29_3 (23 files)...\n"
     ]
    },
    {
     "name": "stderr",
     "output_type": "stream",
     "text": [
      "100%|██████████| 23/23 [00:07<00:00,  3.16it/s]\n"
     ]
    },
    {
     "name": "stdout",
     "output_type": "stream",
     "text": [
      "Extracting features for 66_PM33_3 (2 files)...\n"
     ]
    },
    {
     "name": "stderr",
     "output_type": "stream",
     "text": [
      "100%|██████████| 2/2 [00:07<00:00,  3.78s/it]\n"
     ]
    },
    {
     "name": "stdout",
     "output_type": "stream",
     "text": [
      "Extracting features for 16_PF52_3 (3 files)...\n"
     ]
    },
    {
     "name": "stderr",
     "output_type": "stream",
     "text": [
      "100%|██████████| 3/3 [00:03<00:00,  1.25s/it]\n"
     ]
    },
    {
     "name": "stdout",
     "output_type": "stream",
     "text": [
      "Extracting features for 24_CM63_3 (3 files)...\n"
     ]
    },
    {
     "name": "stderr",
     "output_type": "stream",
     "text": [
      "100%|██████████| 3/3 [00:09<00:00,  3.18s/it]\n"
     ]
    },
    {
     "name": "stdout",
     "output_type": "stream",
     "text": [
      "Extracting features for 08_PF37_2 (2 files)...\n"
     ]
    },
    {
     "name": "stderr",
     "output_type": "stream",
     "text": [
      "100%|██████████| 2/2 [00:06<00:00,  3.42s/it]\n"
     ]
    }
   ],
   "source": [
    "interdata = []\n",
    "for guy in subdirs:\n",
    "    audio_fpath = os.path.join(inter_dir, guy)\n",
    "    files = [f for f in os.listdir(audio_fpath) if f.endswith(\".wav\")]\n",
    "    target = 0 if guy.split(\"_\")[1][0] == \"C\" else 1\n",
    "\n",
    "    all_features = []\n",
    "    print(f\"Extracting features for {guy} ({len(files)} files)...\")\n",
    "\n",
    "    for f in tqdm(files):\n",
    "        audio_file = os.path.join(audio_fpath, f)\n",
    "        try:\n",
    "            signal, sr = sf.read(audio_file)\n",
    "\n",
    "            # Extract features (you can choose one or both)\n",
    "            feat_egemaps = smile_egemaps.process_signal(signal, sr)\n",
    "\n",
    "            # Combine and add metadata\n",
    "            # combined = pd.concat([feat_egemaps, feat_compare], axis=1)\n",
    "            # combined[\"file\"] = f\n",
    "            # feat_egemaps[\"file\"] = f\n",
    "            feat_egemaps[\"target\"] = target\n",
    "            all_features.append(feat_egemaps)\n",
    "        except Exception as e:\n",
    "            print(f\"Error processing {f}: {e}\")\n",
    "\n",
    "    # Concatenate all participants\n",
    "    df = pd.concat(all_features, ignore_index=True)\n",
    "    app = pd.DataFrame(df.mean()).transpose()\n",
    "    app['file'] = guy\n",
    "    interdata.append(app)"
   ]
  },
  {
   "cell_type": "code",
   "execution_count": 24,
   "id": "a5a73e90",
   "metadata": {},
   "outputs": [
    {
     "data": {
      "text/html": [
       "<div>\n",
       "<style scoped>\n",
       "    .dataframe tbody tr th:only-of-type {\n",
       "        vertical-align: middle;\n",
       "    }\n",
       "\n",
       "    .dataframe tbody tr th {\n",
       "        vertical-align: top;\n",
       "    }\n",
       "\n",
       "    .dataframe thead th {\n",
       "        text-align: right;\n",
       "    }\n",
       "</style>\n",
       "<table border=\"1\" class=\"dataframe\">\n",
       "  <thead>\n",
       "    <tr style=\"text-align: right;\">\n",
       "      <th></th>\n",
       "      <th>F0semitoneFrom27.5Hz_sma3nz_amean</th>\n",
       "      <th>F0semitoneFrom27.5Hz_sma3nz_stddevNorm</th>\n",
       "      <th>F0semitoneFrom27.5Hz_sma3nz_percentile20.0</th>\n",
       "      <th>F0semitoneFrom27.5Hz_sma3nz_percentile50.0</th>\n",
       "      <th>F0semitoneFrom27.5Hz_sma3nz_percentile80.0</th>\n",
       "      <th>F0semitoneFrom27.5Hz_sma3nz_pctlrange0-2</th>\n",
       "      <th>F0semitoneFrom27.5Hz_sma3nz_meanRisingSlope</th>\n",
       "      <th>F0semitoneFrom27.5Hz_sma3nz_stddevRisingSlope</th>\n",
       "      <th>F0semitoneFrom27.5Hz_sma3nz_meanFallingSlope</th>\n",
       "      <th>F0semitoneFrom27.5Hz_sma3nz_stddevFallingSlope</th>\n",
       "      <th>...</th>\n",
       "      <th>spectralFluxUV_sma3nz_amean</th>\n",
       "      <th>loudnessPeaksPerSec</th>\n",
       "      <th>VoicedSegmentsPerSec</th>\n",
       "      <th>MeanVoicedSegmentLengthSec</th>\n",
       "      <th>StddevVoicedSegmentLengthSec</th>\n",
       "      <th>MeanUnvoicedSegmentLength</th>\n",
       "      <th>StddevUnvoicedSegmentLength</th>\n",
       "      <th>equivalentSoundLevel_dBp</th>\n",
       "      <th>target</th>\n",
       "      <th>file</th>\n",
       "    </tr>\n",
       "  </thead>\n",
       "  <tbody>\n",
       "    <tr>\n",
       "      <th>0</th>\n",
       "      <td>33.36076</td>\n",
       "      <td>0.113016</td>\n",
       "      <td>32.255665</td>\n",
       "      <td>33.328674</td>\n",
       "      <td>35.014645</td>\n",
       "      <td>2.75898</td>\n",
       "      <td>351.979126</td>\n",
       "      <td>570.98114</td>\n",
       "      <td>78.741867</td>\n",
       "      <td>149.342133</td>\n",
       "      <td>...</td>\n",
       "      <td>1.309442</td>\n",
       "      <td>3.72637</td>\n",
       "      <td>2.503231</td>\n",
       "      <td>0.275408</td>\n",
       "      <td>0.28466</td>\n",
       "      <td>0.118527</td>\n",
       "      <td>0.176662</td>\n",
       "      <td>-21.46962</td>\n",
       "      <td>1.0</td>\n",
       "      <td>29_PF42_3</td>\n",
       "    </tr>\n",
       "  </tbody>\n",
       "</table>\n",
       "<p>1 rows × 90 columns</p>\n",
       "</div>"
      ],
      "text/plain": [
       "   F0semitoneFrom27.5Hz_sma3nz_amean  F0semitoneFrom27.5Hz_sma3nz_stddevNorm  \\\n",
       "0                           33.36076                                0.113016   \n",
       "\n",
       "   F0semitoneFrom27.5Hz_sma3nz_percentile20.0  \\\n",
       "0                                   32.255665   \n",
       "\n",
       "   F0semitoneFrom27.5Hz_sma3nz_percentile50.0  \\\n",
       "0                                   33.328674   \n",
       "\n",
       "   F0semitoneFrom27.5Hz_sma3nz_percentile80.0  \\\n",
       "0                                   35.014645   \n",
       "\n",
       "   F0semitoneFrom27.5Hz_sma3nz_pctlrange0-2  \\\n",
       "0                                   2.75898   \n",
       "\n",
       "   F0semitoneFrom27.5Hz_sma3nz_meanRisingSlope  \\\n",
       "0                                   351.979126   \n",
       "\n",
       "   F0semitoneFrom27.5Hz_sma3nz_stddevRisingSlope  \\\n",
       "0                                      570.98114   \n",
       "\n",
       "   F0semitoneFrom27.5Hz_sma3nz_meanFallingSlope  \\\n",
       "0                                     78.741867   \n",
       "\n",
       "   F0semitoneFrom27.5Hz_sma3nz_stddevFallingSlope  ...  \\\n",
       "0                                      149.342133  ...   \n",
       "\n",
       "   spectralFluxUV_sma3nz_amean  loudnessPeaksPerSec  VoicedSegmentsPerSec  \\\n",
       "0                     1.309442              3.72637              2.503231   \n",
       "\n",
       "   MeanVoicedSegmentLengthSec  StddevVoicedSegmentLengthSec  \\\n",
       "0                    0.275408                       0.28466   \n",
       "\n",
       "   MeanUnvoicedSegmentLength  StddevUnvoicedSegmentLength  \\\n",
       "0                   0.118527                     0.176662   \n",
       "\n",
       "   equivalentSoundLevel_dBp  target       file  \n",
       "0                 -21.46962     1.0  29_PF42_3  \n",
       "\n",
       "[1 rows x 90 columns]"
      ]
     },
     "execution_count": 24,
     "metadata": {},
     "output_type": "execute_result"
    }
   ],
   "source": [
    "interdata[0]"
   ]
  },
  {
   "cell_type": "code",
   "execution_count": 25,
   "id": "02553093",
   "metadata": {},
   "outputs": [],
   "source": [
    "merged_df_inter = pd.concat(interdata, ignore_index=True)"
   ]
  },
  {
   "cell_type": "code",
   "execution_count": 27,
   "id": "d0cfc75e",
   "metadata": {},
   "outputs": [
    {
     "data": {
      "text/html": [
       "<div>\n",
       "<style scoped>\n",
       "    .dataframe tbody tr th:only-of-type {\n",
       "        vertical-align: middle;\n",
       "    }\n",
       "\n",
       "    .dataframe tbody tr th {\n",
       "        vertical-align: top;\n",
       "    }\n",
       "\n",
       "    .dataframe thead th {\n",
       "        text-align: right;\n",
       "    }\n",
       "</style>\n",
       "<table border=\"1\" class=\"dataframe\">\n",
       "  <thead>\n",
       "    <tr style=\"text-align: right;\">\n",
       "      <th></th>\n",
       "      <th>F0semitoneFrom27.5Hz_sma3nz_amean</th>\n",
       "      <th>F0semitoneFrom27.5Hz_sma3nz_stddevNorm</th>\n",
       "      <th>F0semitoneFrom27.5Hz_sma3nz_percentile20.0</th>\n",
       "      <th>F0semitoneFrom27.5Hz_sma3nz_percentile50.0</th>\n",
       "      <th>F0semitoneFrom27.5Hz_sma3nz_percentile80.0</th>\n",
       "      <th>F0semitoneFrom27.5Hz_sma3nz_pctlrange0-2</th>\n",
       "      <th>F0semitoneFrom27.5Hz_sma3nz_meanRisingSlope</th>\n",
       "      <th>F0semitoneFrom27.5Hz_sma3nz_stddevRisingSlope</th>\n",
       "      <th>F0semitoneFrom27.5Hz_sma3nz_meanFallingSlope</th>\n",
       "      <th>F0semitoneFrom27.5Hz_sma3nz_stddevFallingSlope</th>\n",
       "      <th>...</th>\n",
       "      <th>spectralFluxUV_sma3nz_amean</th>\n",
       "      <th>loudnessPeaksPerSec</th>\n",
       "      <th>VoicedSegmentsPerSec</th>\n",
       "      <th>MeanVoicedSegmentLengthSec</th>\n",
       "      <th>StddevVoicedSegmentLengthSec</th>\n",
       "      <th>MeanUnvoicedSegmentLength</th>\n",
       "      <th>StddevUnvoicedSegmentLength</th>\n",
       "      <th>equivalentSoundLevel_dBp</th>\n",
       "      <th>target</th>\n",
       "      <th>file</th>\n",
       "    </tr>\n",
       "  </thead>\n",
       "  <tbody>\n",
       "    <tr>\n",
       "      <th>0</th>\n",
       "      <td>33.360760</td>\n",
       "      <td>0.113016</td>\n",
       "      <td>32.255665</td>\n",
       "      <td>33.328674</td>\n",
       "      <td>35.014645</td>\n",
       "      <td>2.758980</td>\n",
       "      <td>351.979126</td>\n",
       "      <td>570.981140</td>\n",
       "      <td>78.741867</td>\n",
       "      <td>149.342133</td>\n",
       "      <td>...</td>\n",
       "      <td>1.309442</td>\n",
       "      <td>3.726370</td>\n",
       "      <td>2.503231</td>\n",
       "      <td>0.275408</td>\n",
       "      <td>0.284660</td>\n",
       "      <td>0.118527</td>\n",
       "      <td>0.176662</td>\n",
       "      <td>-21.469620</td>\n",
       "      <td>1.0</td>\n",
       "      <td>29_PF42_3</td>\n",
       "    </tr>\n",
       "    <tr>\n",
       "      <th>1</th>\n",
       "      <td>28.141464</td>\n",
       "      <td>0.197084</td>\n",
       "      <td>26.210714</td>\n",
       "      <td>29.375952</td>\n",
       "      <td>31.138563</td>\n",
       "      <td>4.927848</td>\n",
       "      <td>286.377350</td>\n",
       "      <td>329.608276</td>\n",
       "      <td>163.863953</td>\n",
       "      <td>257.176788</td>\n",
       "      <td>...</td>\n",
       "      <td>0.085129</td>\n",
       "      <td>3.070338</td>\n",
       "      <td>3.017196</td>\n",
       "      <td>0.170990</td>\n",
       "      <td>0.159955</td>\n",
       "      <td>0.157874</td>\n",
       "      <td>0.200705</td>\n",
       "      <td>-41.911461</td>\n",
       "      <td>1.0</td>\n",
       "      <td>68_PF43_3</td>\n",
       "    </tr>\n",
       "    <tr>\n",
       "      <th>2</th>\n",
       "      <td>32.723759</td>\n",
       "      <td>0.107326</td>\n",
       "      <td>30.775631</td>\n",
       "      <td>32.544403</td>\n",
       "      <td>35.322155</td>\n",
       "      <td>4.546522</td>\n",
       "      <td>157.087357</td>\n",
       "      <td>218.234512</td>\n",
       "      <td>78.323013</td>\n",
       "      <td>138.313095</td>\n",
       "      <td>...</td>\n",
       "      <td>0.214557</td>\n",
       "      <td>4.598979</td>\n",
       "      <td>1.973078</td>\n",
       "      <td>0.415761</td>\n",
       "      <td>0.338462</td>\n",
       "      <td>0.138481</td>\n",
       "      <td>0.148790</td>\n",
       "      <td>-30.098064</td>\n",
       "      <td>0.0</td>\n",
       "      <td>05_CF41_3</td>\n",
       "    </tr>\n",
       "    <tr>\n",
       "      <th>3</th>\n",
       "      <td>27.331697</td>\n",
       "      <td>0.127157</td>\n",
       "      <td>25.527407</td>\n",
       "      <td>26.935419</td>\n",
       "      <td>28.603676</td>\n",
       "      <td>3.076268</td>\n",
       "      <td>167.702225</td>\n",
       "      <td>184.724060</td>\n",
       "      <td>60.824116</td>\n",
       "      <td>139.489334</td>\n",
       "      <td>...</td>\n",
       "      <td>0.150410</td>\n",
       "      <td>2.660018</td>\n",
       "      <td>1.671053</td>\n",
       "      <td>0.433269</td>\n",
       "      <td>0.409655</td>\n",
       "      <td>0.187644</td>\n",
       "      <td>0.323758</td>\n",
       "      <td>-34.492558</td>\n",
       "      <td>1.0</td>\n",
       "      <td>32_PF51_2</td>\n",
       "    </tr>\n",
       "    <tr>\n",
       "      <th>4</th>\n",
       "      <td>29.801727</td>\n",
       "      <td>0.105786</td>\n",
       "      <td>27.886662</td>\n",
       "      <td>29.715998</td>\n",
       "      <td>31.878279</td>\n",
       "      <td>3.991617</td>\n",
       "      <td>101.348854</td>\n",
       "      <td>164.944778</td>\n",
       "      <td>47.292782</td>\n",
       "      <td>77.142075</td>\n",
       "      <td>...</td>\n",
       "      <td>0.202380</td>\n",
       "      <td>4.848176</td>\n",
       "      <td>3.549651</td>\n",
       "      <td>0.210282</td>\n",
       "      <td>0.161527</td>\n",
       "      <td>0.109442</td>\n",
       "      <td>0.128517</td>\n",
       "      <td>-36.320538</td>\n",
       "      <td>0.0</td>\n",
       "      <td>57_CF25_3</td>\n",
       "    </tr>\n",
       "    <tr>\n",
       "      <th>...</th>\n",
       "      <td>...</td>\n",
       "      <td>...</td>\n",
       "      <td>...</td>\n",
       "      <td>...</td>\n",
       "      <td>...</td>\n",
       "      <td>...</td>\n",
       "      <td>...</td>\n",
       "      <td>...</td>\n",
       "      <td>...</td>\n",
       "      <td>...</td>\n",
       "      <td>...</td>\n",
       "      <td>...</td>\n",
       "      <td>...</td>\n",
       "      <td>...</td>\n",
       "      <td>...</td>\n",
       "      <td>...</td>\n",
       "      <td>...</td>\n",
       "      <td>...</td>\n",
       "      <td>...</td>\n",
       "      <td>...</td>\n",
       "      <td>...</td>\n",
       "    </tr>\n",
       "    <tr>\n",
       "      <th>111</th>\n",
       "      <td>31.389324</td>\n",
       "      <td>0.145669</td>\n",
       "      <td>29.975641</td>\n",
       "      <td>31.891922</td>\n",
       "      <td>33.860661</td>\n",
       "      <td>3.885019</td>\n",
       "      <td>226.296341</td>\n",
       "      <td>243.557037</td>\n",
       "      <td>89.818230</td>\n",
       "      <td>103.441055</td>\n",
       "      <td>...</td>\n",
       "      <td>0.174709</td>\n",
       "      <td>4.358105</td>\n",
       "      <td>2.627234</td>\n",
       "      <td>0.251070</td>\n",
       "      <td>0.232751</td>\n",
       "      <td>0.127381</td>\n",
       "      <td>0.115455</td>\n",
       "      <td>-34.114819</td>\n",
       "      <td>0.0</td>\n",
       "      <td>52_CF29_3</td>\n",
       "    </tr>\n",
       "    <tr>\n",
       "      <th>112</th>\n",
       "      <td>22.966356</td>\n",
       "      <td>0.136990</td>\n",
       "      <td>21.622726</td>\n",
       "      <td>23.050695</td>\n",
       "      <td>24.560778</td>\n",
       "      <td>2.938052</td>\n",
       "      <td>205.717468</td>\n",
       "      <td>400.888824</td>\n",
       "      <td>64.319138</td>\n",
       "      <td>101.022491</td>\n",
       "      <td>...</td>\n",
       "      <td>0.118613</td>\n",
       "      <td>2.560018</td>\n",
       "      <td>1.780949</td>\n",
       "      <td>0.363900</td>\n",
       "      <td>0.399798</td>\n",
       "      <td>0.200111</td>\n",
       "      <td>0.344861</td>\n",
       "      <td>-35.208801</td>\n",
       "      <td>1.0</td>\n",
       "      <td>66_PM33_3</td>\n",
       "    </tr>\n",
       "    <tr>\n",
       "      <th>113</th>\n",
       "      <td>28.152618</td>\n",
       "      <td>0.216538</td>\n",
       "      <td>22.538826</td>\n",
       "      <td>30.339205</td>\n",
       "      <td>32.421719</td>\n",
       "      <td>9.882892</td>\n",
       "      <td>293.280273</td>\n",
       "      <td>395.356842</td>\n",
       "      <td>140.559937</td>\n",
       "      <td>198.592545</td>\n",
       "      <td>...</td>\n",
       "      <td>0.242853</td>\n",
       "      <td>3.761033</td>\n",
       "      <td>2.405857</td>\n",
       "      <td>0.264600</td>\n",
       "      <td>0.281190</td>\n",
       "      <td>0.156339</td>\n",
       "      <td>0.236051</td>\n",
       "      <td>-32.710659</td>\n",
       "      <td>1.0</td>\n",
       "      <td>16_PF52_3</td>\n",
       "    </tr>\n",
       "    <tr>\n",
       "      <th>114</th>\n",
       "      <td>28.735914</td>\n",
       "      <td>0.121195</td>\n",
       "      <td>27.066780</td>\n",
       "      <td>28.642897</td>\n",
       "      <td>30.745932</td>\n",
       "      <td>3.679153</td>\n",
       "      <td>250.115173</td>\n",
       "      <td>420.797028</td>\n",
       "      <td>77.854729</td>\n",
       "      <td>229.702454</td>\n",
       "      <td>...</td>\n",
       "      <td>0.314341</td>\n",
       "      <td>3.369453</td>\n",
       "      <td>1.260306</td>\n",
       "      <td>0.690255</td>\n",
       "      <td>0.746179</td>\n",
       "      <td>0.170092</td>\n",
       "      <td>0.207236</td>\n",
       "      <td>-22.151117</td>\n",
       "      <td>0.0</td>\n",
       "      <td>24_CM63_3</td>\n",
       "    </tr>\n",
       "    <tr>\n",
       "      <th>115</th>\n",
       "      <td>33.238266</td>\n",
       "      <td>0.145050</td>\n",
       "      <td>32.716248</td>\n",
       "      <td>34.712311</td>\n",
       "      <td>35.989540</td>\n",
       "      <td>3.273294</td>\n",
       "      <td>232.726196</td>\n",
       "      <td>352.724274</td>\n",
       "      <td>79.295593</td>\n",
       "      <td>104.842628</td>\n",
       "      <td>...</td>\n",
       "      <td>0.073074</td>\n",
       "      <td>3.283676</td>\n",
       "      <td>1.408829</td>\n",
       "      <td>0.502576</td>\n",
       "      <td>0.428197</td>\n",
       "      <td>0.219059</td>\n",
       "      <td>0.534973</td>\n",
       "      <td>-32.974049</td>\n",
       "      <td>1.0</td>\n",
       "      <td>08_PF37_2</td>\n",
       "    </tr>\n",
       "  </tbody>\n",
       "</table>\n",
       "<p>116 rows × 90 columns</p>\n",
       "</div>"
      ],
      "text/plain": [
       "     F0semitoneFrom27.5Hz_sma3nz_amean  \\\n",
       "0                            33.360760   \n",
       "1                            28.141464   \n",
       "2                            32.723759   \n",
       "3                            27.331697   \n",
       "4                            29.801727   \n",
       "..                                 ...   \n",
       "111                          31.389324   \n",
       "112                          22.966356   \n",
       "113                          28.152618   \n",
       "114                          28.735914   \n",
       "115                          33.238266   \n",
       "\n",
       "     F0semitoneFrom27.5Hz_sma3nz_stddevNorm  \\\n",
       "0                                  0.113016   \n",
       "1                                  0.197084   \n",
       "2                                  0.107326   \n",
       "3                                  0.127157   \n",
       "4                                  0.105786   \n",
       "..                                      ...   \n",
       "111                                0.145669   \n",
       "112                                0.136990   \n",
       "113                                0.216538   \n",
       "114                                0.121195   \n",
       "115                                0.145050   \n",
       "\n",
       "     F0semitoneFrom27.5Hz_sma3nz_percentile20.0  \\\n",
       "0                                     32.255665   \n",
       "1                                     26.210714   \n",
       "2                                     30.775631   \n",
       "3                                     25.527407   \n",
       "4                                     27.886662   \n",
       "..                                          ...   \n",
       "111                                   29.975641   \n",
       "112                                   21.622726   \n",
       "113                                   22.538826   \n",
       "114                                   27.066780   \n",
       "115                                   32.716248   \n",
       "\n",
       "     F0semitoneFrom27.5Hz_sma3nz_percentile50.0  \\\n",
       "0                                     33.328674   \n",
       "1                                     29.375952   \n",
       "2                                     32.544403   \n",
       "3                                     26.935419   \n",
       "4                                     29.715998   \n",
       "..                                          ...   \n",
       "111                                   31.891922   \n",
       "112                                   23.050695   \n",
       "113                                   30.339205   \n",
       "114                                   28.642897   \n",
       "115                                   34.712311   \n",
       "\n",
       "     F0semitoneFrom27.5Hz_sma3nz_percentile80.0  \\\n",
       "0                                     35.014645   \n",
       "1                                     31.138563   \n",
       "2                                     35.322155   \n",
       "3                                     28.603676   \n",
       "4                                     31.878279   \n",
       "..                                          ...   \n",
       "111                                   33.860661   \n",
       "112                                   24.560778   \n",
       "113                                   32.421719   \n",
       "114                                   30.745932   \n",
       "115                                   35.989540   \n",
       "\n",
       "     F0semitoneFrom27.5Hz_sma3nz_pctlrange0-2  \\\n",
       "0                                    2.758980   \n",
       "1                                    4.927848   \n",
       "2                                    4.546522   \n",
       "3                                    3.076268   \n",
       "4                                    3.991617   \n",
       "..                                        ...   \n",
       "111                                  3.885019   \n",
       "112                                  2.938052   \n",
       "113                                  9.882892   \n",
       "114                                  3.679153   \n",
       "115                                  3.273294   \n",
       "\n",
       "     F0semitoneFrom27.5Hz_sma3nz_meanRisingSlope  \\\n",
       "0                                     351.979126   \n",
       "1                                     286.377350   \n",
       "2                                     157.087357   \n",
       "3                                     167.702225   \n",
       "4                                     101.348854   \n",
       "..                                           ...   \n",
       "111                                   226.296341   \n",
       "112                                   205.717468   \n",
       "113                                   293.280273   \n",
       "114                                   250.115173   \n",
       "115                                   232.726196   \n",
       "\n",
       "     F0semitoneFrom27.5Hz_sma3nz_stddevRisingSlope  \\\n",
       "0                                       570.981140   \n",
       "1                                       329.608276   \n",
       "2                                       218.234512   \n",
       "3                                       184.724060   \n",
       "4                                       164.944778   \n",
       "..                                             ...   \n",
       "111                                     243.557037   \n",
       "112                                     400.888824   \n",
       "113                                     395.356842   \n",
       "114                                     420.797028   \n",
       "115                                     352.724274   \n",
       "\n",
       "     F0semitoneFrom27.5Hz_sma3nz_meanFallingSlope  \\\n",
       "0                                       78.741867   \n",
       "1                                      163.863953   \n",
       "2                                       78.323013   \n",
       "3                                       60.824116   \n",
       "4                                       47.292782   \n",
       "..                                            ...   \n",
       "111                                     89.818230   \n",
       "112                                     64.319138   \n",
       "113                                    140.559937   \n",
       "114                                     77.854729   \n",
       "115                                     79.295593   \n",
       "\n",
       "     F0semitoneFrom27.5Hz_sma3nz_stddevFallingSlope  ...  \\\n",
       "0                                        149.342133  ...   \n",
       "1                                        257.176788  ...   \n",
       "2                                        138.313095  ...   \n",
       "3                                        139.489334  ...   \n",
       "4                                         77.142075  ...   \n",
       "..                                              ...  ...   \n",
       "111                                      103.441055  ...   \n",
       "112                                      101.022491  ...   \n",
       "113                                      198.592545  ...   \n",
       "114                                      229.702454  ...   \n",
       "115                                      104.842628  ...   \n",
       "\n",
       "     spectralFluxUV_sma3nz_amean  loudnessPeaksPerSec  VoicedSegmentsPerSec  \\\n",
       "0                       1.309442             3.726370              2.503231   \n",
       "1                       0.085129             3.070338              3.017196   \n",
       "2                       0.214557             4.598979              1.973078   \n",
       "3                       0.150410             2.660018              1.671053   \n",
       "4                       0.202380             4.848176              3.549651   \n",
       "..                           ...                  ...                   ...   \n",
       "111                     0.174709             4.358105              2.627234   \n",
       "112                     0.118613             2.560018              1.780949   \n",
       "113                     0.242853             3.761033              2.405857   \n",
       "114                     0.314341             3.369453              1.260306   \n",
       "115                     0.073074             3.283676              1.408829   \n",
       "\n",
       "     MeanVoicedSegmentLengthSec  StddevVoicedSegmentLengthSec  \\\n",
       "0                      0.275408                      0.284660   \n",
       "1                      0.170990                      0.159955   \n",
       "2                      0.415761                      0.338462   \n",
       "3                      0.433269                      0.409655   \n",
       "4                      0.210282                      0.161527   \n",
       "..                          ...                           ...   \n",
       "111                    0.251070                      0.232751   \n",
       "112                    0.363900                      0.399798   \n",
       "113                    0.264600                      0.281190   \n",
       "114                    0.690255                      0.746179   \n",
       "115                    0.502576                      0.428197   \n",
       "\n",
       "     MeanUnvoicedSegmentLength  StddevUnvoicedSegmentLength  \\\n",
       "0                     0.118527                     0.176662   \n",
       "1                     0.157874                     0.200705   \n",
       "2                     0.138481                     0.148790   \n",
       "3                     0.187644                     0.323758   \n",
       "4                     0.109442                     0.128517   \n",
       "..                         ...                          ...   \n",
       "111                   0.127381                     0.115455   \n",
       "112                   0.200111                     0.344861   \n",
       "113                   0.156339                     0.236051   \n",
       "114                   0.170092                     0.207236   \n",
       "115                   0.219059                     0.534973   \n",
       "\n",
       "     equivalentSoundLevel_dBp  target       file  \n",
       "0                  -21.469620     1.0  29_PF42_3  \n",
       "1                  -41.911461     1.0  68_PF43_3  \n",
       "2                  -30.098064     0.0  05_CF41_3  \n",
       "3                  -34.492558     1.0  32_PF51_2  \n",
       "4                  -36.320538     0.0  57_CF25_3  \n",
       "..                        ...     ...        ...  \n",
       "111                -34.114819     0.0  52_CF29_3  \n",
       "112                -35.208801     1.0  66_PM33_3  \n",
       "113                -32.710659     1.0  16_PF52_3  \n",
       "114                -22.151117     0.0  24_CM63_3  \n",
       "115                -32.974049     1.0  08_PF37_2  \n",
       "\n",
       "[116 rows x 90 columns]"
      ]
     },
     "execution_count": 27,
     "metadata": {},
     "output_type": "execute_result"
    }
   ],
   "source": [
    "merged_df_inter"
   ]
  },
  {
   "cell_type": "code",
   "execution_count": null,
   "id": "ee687f20",
   "metadata": {},
   "outputs": [],
   "source": [
    "# merged_df_inter['gender'] = merged_df_inter['file'].str.split('_').str[1].str[1]\n",
    "# merged_df_inter['age'] = merged_df_inter['file'].str.split('_').str[1].str[2:]\n",
    "# merged_df_inter['edu'] = merged_df_inter['file'].str.split('_').str[2]\n",
    "# merged_df_inter['age'] = merged_df_inter['age'].astype(pd.Int64Dtype())"
   ]
  },
  {
   "cell_type": "code",
   "execution_count": 30,
   "id": "b738ed9a",
   "metadata": {},
   "outputs": [],
   "source": [
    "merged_df_inter.to_csv(\"features_egemaps_spont.csv\", index=False)"
   ]
  },
  {
   "cell_type": "code",
   "execution_count": 16,
   "id": "8e3d9f5a",
   "metadata": {},
   "outputs": [
    {
     "data": {
      "text/plain": [
       "pandas.core.frame.DataFrame"
      ]
     },
     "execution_count": 16,
     "metadata": {},
     "output_type": "execute_result"
    }
   ],
   "source": [
    "type(pd.DataFrame(df.mean()).transpose())"
   ]
  },
  {
   "cell_type": "code",
   "execution_count": null,
   "id": "e72d159e",
   "metadata": {},
   "outputs": [],
   "source": [
    "# - nn_XGmm_t.wav,\n",
    "# - nn is a unique integer identifier suchthat, in a given group, files with the same nn contain the voiceof the same speaker (there is a trailing 0 for numbers lower than 10),\n",
    "# - X is an alphabetic character corresponding to the speaker’s\n",
    "# condition (P for depression patient and C for control),\n",
    "# - G is analphabetic character that stands for the speaker’s gender (M for male and F for female),\n",
    "# - mm is a two-digits integer number corresponding to the speaker’s age,\n",
    "# - t is an integer number between 1 and 4accounting for the education level (1 corresponds to primary school and 4 corresponds to university).\n",
    "# - The letter Xwas used for the 2 participants who did not provide informationabout this aspect."
   ]
  },
  {
   "cell_type": "markdown",
   "id": "21552a9c",
   "metadata": {},
   "source": []
  },
  {
   "cell_type": "code",
   "execution_count": null,
   "id": "0041f556",
   "metadata": {},
   "outputs": [],
   "source": []
  },
  {
   "cell_type": "markdown",
   "id": "d8e47187",
   "metadata": {},
   "source": []
  }
 ],
 "metadata": {
  "kernelspec": {
   "display_name": "Python 3",
   "language": "python",
   "name": "python3"
  },
  "language_info": {
   "codemirror_mode": {
    "name": "ipython",
    "version": 3
   },
   "file_extension": ".py",
   "mimetype": "text/x-python",
   "name": "python",
   "nbconvert_exporter": "python",
   "pygments_lexer": "ipython3",
   "version": "3.10.12"
  }
 },
 "nbformat": 4,
 "nbformat_minor": 5
}
