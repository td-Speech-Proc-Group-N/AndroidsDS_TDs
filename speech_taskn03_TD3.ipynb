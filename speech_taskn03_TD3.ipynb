{
  "nbformat": 4,
  "nbformat_minor": 0,
  "metadata": {
    "colab": {
      "provenance": []
    },
    "kernelspec": {
      "name": "python3",
      "display_name": "Python 3"
    },
    "language_info": {
      "name": "python"
    }
  },
  "cells": [
    {
      "cell_type": "code",
      "execution_count": null,
      "metadata": {
        "id": "cKrC40N3zpz0"
      },
      "outputs": [],
      "source": [
        "import pandas as pd\n",
        "import pingouin as pg\n",
        "import numpy as np\n",
        "import seaborn as sns\n",
        "import matplotlib.pyplot as plt\n",
        "# statsmodels.api?\n",
        "\n",
        "\n",
        "df = pd.read_csv('PT_features_reading.csv')"
      ]
    },
    {
      "cell_type": "code",
      "source": [
        "age_stats_agg = df.groupby('diagnosis')['age'].agg(\n",
        "    mean_age = 'mean',\n",
        "    median_age = 'median',\n",
        "    std_age = 'std',\n",
        "    min_age = 'min',\n",
        "    max_age = 'max'\n",
        ")\n",
        "\n",
        "age_stats_agg.round(2)"
      ],
      "metadata": {
        "id": "qHyNstDgz1D2"
      },
      "execution_count": null,
      "outputs": []
    },
    {
      "cell_type": "code",
      "source": [],
      "metadata": {
        "id": "04xKvYHpzz4-"
      },
      "execution_count": null,
      "outputs": []
    },
    {
      "cell_type": "code",
      "source": [
        "# test dependency between Sex and Diagnosis)\n",
        "\n",
        "import scipy.stats as stats\n",
        "\n",
        "contingency_sex = pd.crosstab(df['sex'], df['diagnosis'])\n",
        "\n",
        "print(\"Observed Contingency Table (Sex vs Diagnosis):\")\n",
        "print(contingency_sex)\n",
        "\n",
        "# Chi-square Test\n",
        "\n",
        "chi2_stat, p_val, dof, expected_freq = stats.chi2_contingency(contingency_sex)\n",
        "\n",
        "print(\"\\nChi-square Test Results (using SciPy.stats):\")\n",
        "print(f\"Chi2 Statistic: {chi2_stat:.4f}\")\n",
        "print(f\"Degrees of Freedom: {dof}\")\n",
        "\n",
        "#  if p_val < 0.05, there is a significant association.\n",
        "# https://docs.scipy.org/doc/scipy/reference/generated/scipy.stats.chi2_contingency.html\n",
        "# https://pandas.pydata.org/docs/reference/api/pandas.crosstab.html\n"
      ],
      "metadata": {
        "id": "Cl_5H22U02cm"
      },
      "execution_count": null,
      "outputs": []
    },
    {
      "cell_type": "markdown",
      "source": [],
      "metadata": {
        "id": "uXwQ3vXs1J0A"
      }
    }
  ]
}